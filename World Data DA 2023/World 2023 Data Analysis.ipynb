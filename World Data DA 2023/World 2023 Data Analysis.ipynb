{
 "cells": [
  {
   "cell_type": "code",
   "execution_count": 1,
   "metadata": {},
   "outputs": [],
   "source": [
    "#importing libraries\n",
    "\n",
    "import pandas as pd\n",
    "import numpy as np\n",
    "import plotly.express as px\n",
    "import plotly.graph_objects as go\n",
    "import matplotlib as mp\n",
    "import matplotlib.pyplot as plt\n",
    "import seaborn as sb"
   ]
  },
  {
   "cell_type": "code",
   "execution_count": 2,
   "metadata": {},
   "outputs": [],
   "source": [
    "# pip install numexpr --upgrade --user"
   ]
  },
  {
   "cell_type": "code",
   "execution_count": 2,
   "metadata": {},
   "outputs": [],
   "source": [
    "# importing data\n",
    "data=pd.read_csv(\"world-data-2023.csv\")"
   ]
  },
  {
   "cell_type": "code",
   "execution_count": 3,
   "metadata": {},
   "outputs": [
    {
     "name": "stdout",
     "output_type": "stream",
     "text": [
      "       Country Density\\n(P/Km2) Abbreviation Agricultural Land( %)  \\\n",
      "0  Afghanistan               60           AF                58.10%   \n",
      "1      Albania              105           AL                43.10%   \n",
      "2      Algeria               18           DZ                17.40%   \n",
      "3      Andorra              164           AD                40.00%   \n",
      "4       Angola               26           AO                47.50%   \n",
      "\n",
      "  Land Area(Km2) Armed Forces size  Birth Rate  Calling Code  \\\n",
      "0        652,230           323,000       32.49          93.0   \n",
      "1         28,748             9,000       11.78         355.0   \n",
      "2      2,381,741           317,000       24.28         213.0   \n",
      "3            468               NaN        7.20         376.0   \n",
      "4      1,246,700           117,000       40.73         244.0   \n",
      "\n",
      "  Capital/Major City Co2-Emissions  ... Out of pocket health expenditure  \\\n",
      "0              Kabul         8,672  ...                           78.40%   \n",
      "1             Tirana         4,536  ...                           56.90%   \n",
      "2            Algiers       150,006  ...                           28.10%   \n",
      "3   Andorra la Vella           469  ...                           36.40%   \n",
      "4             Luanda        34,693  ...                           33.40%   \n",
      "\n",
      "  Physicians per thousand  Population  \\\n",
      "0                    0.28  38,041,754   \n",
      "1                    1.20   2,854,191   \n",
      "2                    1.72  43,053,054   \n",
      "3                    3.33      77,142   \n",
      "4                    0.21  31,825,295   \n",
      "\n",
      "   Population: Labor force participation (%) Tax revenue (%) Total tax rate  \\\n",
      "0                                     48.90%           9.30%         71.40%   \n",
      "1                                     55.70%          18.60%         36.60%   \n",
      "2                                     41.20%          37.20%         66.10%   \n",
      "3                                        NaN             NaN            NaN   \n",
      "4                                     77.50%           9.20%         49.10%   \n",
      "\n",
      "  Unemployment rate Urban_population   Latitude  Longitude  \n",
      "0            11.12%        9,797,273  33.939110  67.709953  \n",
      "1            12.33%        1,747,593  41.153332  20.168331  \n",
      "2            11.70%       31,510,100  28.033886   1.659626  \n",
      "3               NaN           67,873  42.506285   1.521801  \n",
      "4             6.89%       21,061,025 -11.202692  17.873887  \n",
      "\n",
      "[5 rows x 35 columns]\n"
     ]
    }
   ],
   "source": [
    "# Exploring first few rows of the dataset\n",
    "\n",
    "print(data.head())"
   ]
  },
  {
   "cell_type": "code",
   "execution_count": 5,
   "metadata": {},
   "outputs": [
    {
     "name": "stdout",
     "output_type": "stream",
     "text": [
      "       Birth Rate  Calling Code  Fertility Rate  Infant mortality  \\\n",
      "count  189.000000    194.000000      188.000000        189.000000   \n",
      "mean    20.214974    360.546392        2.698138         21.332804   \n",
      "std      9.945774    323.236419        1.282267         19.548058   \n",
      "min      5.900000      1.000000        0.980000          1.400000   \n",
      "25%     11.300000     82.500000        1.705000          6.000000   \n",
      "50%     17.950000    255.500000        2.245000         14.000000   \n",
      "75%     28.750000    506.750000        3.597500         32.700000   \n",
      "max     46.080000   1876.000000        6.910000         84.500000   \n",
      "\n",
      "       Life expectancy  Maternal mortality ratio  Physicians per thousand  \\\n",
      "count       187.000000                181.000000               188.000000   \n",
      "mean         72.279679                160.392265                 1.839840   \n",
      "std           7.483661                233.502024                 1.684261   \n",
      "min          52.800000                  2.000000                 0.010000   \n",
      "25%          67.000000                 13.000000                 0.332500   \n",
      "50%          73.200000                 53.000000                 1.460000   \n",
      "75%          77.500000                186.000000                 2.935000   \n",
      "max          85.400000               1150.000000                 8.420000   \n",
      "\n",
      "         Latitude   Longitude  \n",
      "count  194.000000  194.000000  \n",
      "mean    19.092351   20.232434  \n",
      "std     23.961779   66.716110  \n",
      "min    -40.900557 -175.198242  \n",
      "25%      4.544175   -7.941496  \n",
      "50%     17.273849   20.972652  \n",
      "75%     40.124603   48.281523  \n",
      "max     64.963051  178.065032  \n"
     ]
    }
   ],
   "source": [
    "# Statistical Analysis \n",
    "\n",
    "print(data.describe())"
   ]
  },
  {
   "cell_type": "code",
   "execution_count": 4,
   "metadata": {},
   "outputs": [
    {
     "name": "stdout",
     "output_type": "stream",
     "text": [
      "<class 'pandas.core.frame.DataFrame'>\n",
      "RangeIndex: 195 entries, 0 to 194\n",
      "Data columns (total 35 columns):\n",
      " #   Column                                     Non-Null Count  Dtype  \n",
      "---  ------                                     --------------  -----  \n",
      " 0   Country                                    195 non-null    object \n",
      " 1   Density\n",
      "(P/Km2)                            195 non-null    object \n",
      " 2   Abbreviation                               188 non-null    object \n",
      " 3   Agricultural Land( %)                      188 non-null    object \n",
      " 4   Land Area(Km2)                             194 non-null    object \n",
      " 5   Armed Forces size                          171 non-null    object \n",
      " 6   Birth Rate                                 189 non-null    float64\n",
      " 7   Calling Code                               194 non-null    float64\n",
      " 8   Capital/Major City                         192 non-null    object \n",
      " 9   Co2-Emissions                              188 non-null    object \n",
      " 10  CPI                                        178 non-null    object \n",
      " 11  CPI Change (%)                             179 non-null    object \n",
      " 12  Currency-Code                              180 non-null    object \n",
      " 13  Fertility Rate                             188 non-null    float64\n",
      " 14  Forested Area (%)                          188 non-null    object \n",
      " 15  Gasoline Price                             175 non-null    object \n",
      " 16  GDP                                        193 non-null    object \n",
      " 17  Gross primary education enrollment (%)     188 non-null    object \n",
      " 18  Gross tertiary education enrollment (%)    183 non-null    object \n",
      " 19  Infant mortality                           189 non-null    float64\n",
      " 20  Largest city                               189 non-null    object \n",
      " 21  Life expectancy                            187 non-null    float64\n",
      " 22  Maternal mortality ratio                   181 non-null    float64\n",
      " 23  Minimum wage                               150 non-null    object \n",
      " 24  Official language                          190 non-null    object \n",
      " 25  Out of pocket health expenditure           188 non-null    object \n",
      " 26  Physicians per thousand                    188 non-null    float64\n",
      " 27  Population                                 194 non-null    object \n",
      " 28  Population: Labor force participation (%)  176 non-null    object \n",
      " 29  Tax revenue (%)                            169 non-null    object \n",
      " 30  Total tax rate                             183 non-null    object \n",
      " 31  Unemployment rate                          176 non-null    object \n",
      " 32  Urban_population                           190 non-null    object \n",
      " 33  Latitude                                   194 non-null    float64\n",
      " 34  Longitude                                  194 non-null    float64\n",
      "dtypes: float64(9), object(26)\n",
      "memory usage: 53.4+ KB\n"
     ]
    }
   ],
   "source": [
    "# Information regarding the columns \n",
    "data.info()"
   ]
  },
  {
   "cell_type": "code",
   "execution_count": 5,
   "metadata": {},
   "outputs": [
    {
     "data": {
      "text/html": [
       "<div>\n",
       "<style scoped>\n",
       "    .dataframe tbody tr th:only-of-type {\n",
       "        vertical-align: middle;\n",
       "    }\n",
       "\n",
       "    .dataframe tbody tr th {\n",
       "        vertical-align: top;\n",
       "    }\n",
       "\n",
       "    .dataframe thead th {\n",
       "        text-align: right;\n",
       "    }\n",
       "</style>\n",
       "<table border=\"1\" class=\"dataframe\">\n",
       "  <thead>\n",
       "    <tr style=\"text-align: right;\">\n",
       "      <th></th>\n",
       "      <th>Birth Rate</th>\n",
       "      <th>Calling Code</th>\n",
       "      <th>Fertility Rate</th>\n",
       "      <th>Infant mortality</th>\n",
       "      <th>Life expectancy</th>\n",
       "      <th>Maternal mortality ratio</th>\n",
       "      <th>Physicians per thousand</th>\n",
       "      <th>Latitude</th>\n",
       "      <th>Longitude</th>\n",
       "    </tr>\n",
       "  </thead>\n",
       "  <tbody>\n",
       "    <tr>\n",
       "      <th>count</th>\n",
       "      <td>189.000000</td>\n",
       "      <td>194.000000</td>\n",
       "      <td>188.000000</td>\n",
       "      <td>189.000000</td>\n",
       "      <td>187.000000</td>\n",
       "      <td>181.000000</td>\n",
       "      <td>188.000000</td>\n",
       "      <td>194.000000</td>\n",
       "      <td>194.000000</td>\n",
       "    </tr>\n",
       "    <tr>\n",
       "      <th>mean</th>\n",
       "      <td>20.214974</td>\n",
       "      <td>360.546392</td>\n",
       "      <td>2.698138</td>\n",
       "      <td>21.332804</td>\n",
       "      <td>72.279679</td>\n",
       "      <td>160.392265</td>\n",
       "      <td>1.839840</td>\n",
       "      <td>19.092351</td>\n",
       "      <td>20.232434</td>\n",
       "    </tr>\n",
       "    <tr>\n",
       "      <th>std</th>\n",
       "      <td>9.945774</td>\n",
       "      <td>323.236419</td>\n",
       "      <td>1.282267</td>\n",
       "      <td>19.548058</td>\n",
       "      <td>7.483661</td>\n",
       "      <td>233.502024</td>\n",
       "      <td>1.684261</td>\n",
       "      <td>23.961779</td>\n",
       "      <td>66.716110</td>\n",
       "    </tr>\n",
       "    <tr>\n",
       "      <th>min</th>\n",
       "      <td>5.900000</td>\n",
       "      <td>1.000000</td>\n",
       "      <td>0.980000</td>\n",
       "      <td>1.400000</td>\n",
       "      <td>52.800000</td>\n",
       "      <td>2.000000</td>\n",
       "      <td>0.010000</td>\n",
       "      <td>-40.900557</td>\n",
       "      <td>-175.198242</td>\n",
       "    </tr>\n",
       "    <tr>\n",
       "      <th>25%</th>\n",
       "      <td>11.300000</td>\n",
       "      <td>82.500000</td>\n",
       "      <td>1.705000</td>\n",
       "      <td>6.000000</td>\n",
       "      <td>67.000000</td>\n",
       "      <td>13.000000</td>\n",
       "      <td>0.332500</td>\n",
       "      <td>4.544175</td>\n",
       "      <td>-7.941496</td>\n",
       "    </tr>\n",
       "    <tr>\n",
       "      <th>50%</th>\n",
       "      <td>17.950000</td>\n",
       "      <td>255.500000</td>\n",
       "      <td>2.245000</td>\n",
       "      <td>14.000000</td>\n",
       "      <td>73.200000</td>\n",
       "      <td>53.000000</td>\n",
       "      <td>1.460000</td>\n",
       "      <td>17.273849</td>\n",
       "      <td>20.972652</td>\n",
       "    </tr>\n",
       "    <tr>\n",
       "      <th>75%</th>\n",
       "      <td>28.750000</td>\n",
       "      <td>506.750000</td>\n",
       "      <td>3.597500</td>\n",
       "      <td>32.700000</td>\n",
       "      <td>77.500000</td>\n",
       "      <td>186.000000</td>\n",
       "      <td>2.935000</td>\n",
       "      <td>40.124603</td>\n",
       "      <td>48.281523</td>\n",
       "    </tr>\n",
       "    <tr>\n",
       "      <th>max</th>\n",
       "      <td>46.080000</td>\n",
       "      <td>1876.000000</td>\n",
       "      <td>6.910000</td>\n",
       "      <td>84.500000</td>\n",
       "      <td>85.400000</td>\n",
       "      <td>1150.000000</td>\n",
       "      <td>8.420000</td>\n",
       "      <td>64.963051</td>\n",
       "      <td>178.065032</td>\n",
       "    </tr>\n",
       "  </tbody>\n",
       "</table>\n",
       "</div>"
      ],
      "text/plain": [
       "       Birth Rate  Calling Code  Fertility Rate  Infant mortality  \\\n",
       "count  189.000000    194.000000      188.000000        189.000000   \n",
       "mean    20.214974    360.546392        2.698138         21.332804   \n",
       "std      9.945774    323.236419        1.282267         19.548058   \n",
       "min      5.900000      1.000000        0.980000          1.400000   \n",
       "25%     11.300000     82.500000        1.705000          6.000000   \n",
       "50%     17.950000    255.500000        2.245000         14.000000   \n",
       "75%     28.750000    506.750000        3.597500         32.700000   \n",
       "max     46.080000   1876.000000        6.910000         84.500000   \n",
       "\n",
       "       Life expectancy  Maternal mortality ratio  Physicians per thousand  \\\n",
       "count       187.000000                181.000000               188.000000   \n",
       "mean         72.279679                160.392265                 1.839840   \n",
       "std           7.483661                233.502024                 1.684261   \n",
       "min          52.800000                  2.000000                 0.010000   \n",
       "25%          67.000000                 13.000000                 0.332500   \n",
       "50%          73.200000                 53.000000                 1.460000   \n",
       "75%          77.500000                186.000000                 2.935000   \n",
       "max          85.400000               1150.000000                 8.420000   \n",
       "\n",
       "         Latitude   Longitude  \n",
       "count  194.000000  194.000000  \n",
       "mean    19.092351   20.232434  \n",
       "std     23.961779   66.716110  \n",
       "min    -40.900557 -175.198242  \n",
       "25%      4.544175   -7.941496  \n",
       "50%     17.273849   20.972652  \n",
       "75%     40.124603   48.281523  \n",
       "max     64.963051  178.065032  "
      ]
     },
     "execution_count": 5,
     "metadata": {},
     "output_type": "execute_result"
    }
   ],
   "source": [
    "# Statistical Analysis with updated dataframe \n",
    "\n",
    "data.describe()"
   ]
  },
  {
   "cell_type": "code",
   "execution_count": 148,
   "metadata": {},
   "outputs": [],
   "source": [
    "# Dropping unnecessary columns\n",
    "\n",
    "columns_to_drop=['Calling Code', 'Latitude','Longitude','Abbreviation','Capital/Major City','Largest city','Official language','Currency-Code']\n",
    "df=data.drop(columns=columns_to_drop)"
   ]
  },
  {
   "cell_type": "code",
   "execution_count": 149,
   "metadata": {},
   "outputs": [
    {
     "name": "stdout",
     "output_type": "stream",
     "text": [
      "<class 'pandas.core.frame.DataFrame'>\n",
      "RangeIndex: 195 entries, 0 to 194\n",
      "Data columns (total 27 columns):\n",
      " #   Column                                     Non-Null Count  Dtype  \n",
      "---  ------                                     --------------  -----  \n",
      " 0   Country                                    195 non-null    object \n",
      " 1   Density\n",
      "(P/Km2)                            195 non-null    object \n",
      " 2   Agricultural Land( %)                      188 non-null    object \n",
      " 3   Land Area(Km2)                             194 non-null    object \n",
      " 4   Armed Forces size                          171 non-null    object \n",
      " 5   Birth Rate                                 189 non-null    float64\n",
      " 6   Co2-Emissions                              188 non-null    object \n",
      " 7   CPI                                        178 non-null    object \n",
      " 8   CPI Change (%)                             179 non-null    object \n",
      " 9   Fertility Rate                             188 non-null    float64\n",
      " 10  Forested Area (%)                          188 non-null    object \n",
      " 11  Gasoline Price                             175 non-null    object \n",
      " 12  GDP                                        193 non-null    object \n",
      " 13  Gross primary education enrollment (%)     188 non-null    object \n",
      " 14  Gross tertiary education enrollment (%)    183 non-null    object \n",
      " 15  Infant mortality                           189 non-null    float64\n",
      " 16  Life expectancy                            187 non-null    float64\n",
      " 17  Maternal mortality ratio                   181 non-null    float64\n",
      " 18  Minimum wage                               150 non-null    object \n",
      " 19  Out of pocket health expenditure           188 non-null    object \n",
      " 20  Physicians per thousand                    188 non-null    float64\n",
      " 21  Population                                 194 non-null    object \n",
      " 22  Population: Labor force participation (%)  176 non-null    object \n",
      " 23  Tax revenue (%)                            169 non-null    object \n",
      " 24  Total tax rate                             183 non-null    object \n",
      " 25  Unemployment rate                          176 non-null    object \n",
      " 26  Urban_population                           190 non-null    object \n",
      "dtypes: float64(6), object(21)\n",
      "memory usage: 41.3+ KB\n"
     ]
    }
   ],
   "source": [
    "# Checking the data types of the columns\n",
    "df.info()"
   ]
  },
  {
   "cell_type": "code",
   "execution_count": 150,
   "metadata": {},
   "outputs": [
    {
     "data": {
      "text/plain": [
       "Country                                       0\n",
       "Density\\n(P/Km2)                              0\n",
       "Agricultural Land( %)                         7\n",
       "Land Area(Km2)                                1\n",
       "Armed Forces size                            24\n",
       "Birth Rate                                    6\n",
       "Co2-Emissions                                 7\n",
       "CPI                                          17\n",
       "CPI Change (%)                               16\n",
       "Fertility Rate                                7\n",
       "Forested Area (%)                             7\n",
       "Gasoline Price                               20\n",
       "GDP                                           2\n",
       "Gross primary education enrollment (%)        7\n",
       "Gross tertiary education enrollment (%)      12\n",
       "Infant mortality                              6\n",
       "Life expectancy                               8\n",
       "Maternal mortality ratio                     14\n",
       "Minimum wage                                 45\n",
       "Out of pocket health expenditure              7\n",
       "Physicians per thousand                       7\n",
       "Population                                    1\n",
       "Population: Labor force participation (%)    19\n",
       "Tax revenue (%)                              26\n",
       "Total tax rate                               12\n",
       "Unemployment rate                            19\n",
       "Urban_population                              5\n",
       "dtype: int64"
      ]
     },
     "execution_count": 150,
     "metadata": {},
     "output_type": "execute_result"
    }
   ],
   "source": [
    "# Checking the number of null/missing values in each column\n",
    "df.isnull().sum()"
   ]
  },
  {
   "cell_type": "code",
   "execution_count": 151,
   "metadata": {
    "scrolled": true
   },
   "outputs": [
    {
     "name": "stdout",
     "output_type": "stream",
     "text": [
      "Country                                       object\n",
      "Density\\n(P/Km2)                              object\n",
      "Agricultural Land( %)                         object\n",
      "Land Area(Km2)                                object\n",
      "Armed Forces size                             object\n",
      "Birth Rate                                   float64\n",
      "Co2-Emissions                                 object\n",
      "CPI                                           object\n",
      "CPI Change (%)                                object\n",
      "Fertility Rate                               float64\n",
      "Forested Area (%)                             object\n",
      "Gasoline Price                                object\n",
      "GDP                                           object\n",
      "Gross primary education enrollment (%)        object\n",
      "Gross tertiary education enrollment (%)       object\n",
      "Infant mortality                             float64\n",
      "Life expectancy                              float64\n",
      "Maternal mortality ratio                     float64\n",
      "Minimum wage                                  object\n",
      "Out of pocket health expenditure              object\n",
      "Physicians per thousand                      float64\n",
      "Population                                    object\n",
      "Population: Labor force participation (%)     object\n",
      "Tax revenue (%)                               object\n",
      "Total tax rate                                object\n",
      "Unemployment rate                             object\n",
      "Urban_population                              object\n",
      "dtype: object\n"
     ]
    }
   ],
   "source": [
    "# Checking the data types : Converting data type from object to float64\n",
    "print(df.dtypes)"
   ]
  },
  {
   "cell_type": "code",
   "execution_count": 12,
   "metadata": {},
   "outputs": [
    {
     "data": {
      "text/html": [
       "<div>\n",
       "<style scoped>\n",
       "    .dataframe tbody tr th:only-of-type {\n",
       "        vertical-align: middle;\n",
       "    }\n",
       "\n",
       "    .dataframe tbody tr th {\n",
       "        vertical-align: top;\n",
       "    }\n",
       "\n",
       "    .dataframe thead th {\n",
       "        text-align: right;\n",
       "    }\n",
       "</style>\n",
       "<table border=\"1\" class=\"dataframe\">\n",
       "  <thead>\n",
       "    <tr style=\"text-align: right;\">\n",
       "      <th></th>\n",
       "      <th>Country</th>\n",
       "      <th>Density\\n(P/Km2)</th>\n",
       "      <th>Agricultural Land( %)</th>\n",
       "      <th>Land Area(Km2)</th>\n",
       "      <th>Armed Forces size</th>\n",
       "      <th>Birth Rate</th>\n",
       "      <th>Co2-Emissions</th>\n",
       "      <th>CPI</th>\n",
       "      <th>CPI Change (%)</th>\n",
       "      <th>Fertility Rate</th>\n",
       "      <th>...</th>\n",
       "      <th>Maternal mortality ratio</th>\n",
       "      <th>Minimum wage</th>\n",
       "      <th>Out of pocket health expenditure</th>\n",
       "      <th>Physicians per thousand</th>\n",
       "      <th>Population</th>\n",
       "      <th>Population: Labor force participation (%)</th>\n",
       "      <th>Tax revenue (%)</th>\n",
       "      <th>Total tax rate</th>\n",
       "      <th>Unemployment rate</th>\n",
       "      <th>Urban_population</th>\n",
       "    </tr>\n",
       "  </thead>\n",
       "  <tbody>\n",
       "    <tr>\n",
       "      <th>0</th>\n",
       "      <td>Afghanistan</td>\n",
       "      <td>60</td>\n",
       "      <td>58.10%</td>\n",
       "      <td>652,230</td>\n",
       "      <td>323,000</td>\n",
       "      <td>32.49</td>\n",
       "      <td>8,672</td>\n",
       "      <td>149.9</td>\n",
       "      <td>2.30%</td>\n",
       "      <td>4.47</td>\n",
       "      <td>...</td>\n",
       "      <td>638.0</td>\n",
       "      <td>$0.43</td>\n",
       "      <td>78.40%</td>\n",
       "      <td>0.28</td>\n",
       "      <td>38,041,754</td>\n",
       "      <td>48.90%</td>\n",
       "      <td>9.30%</td>\n",
       "      <td>71.40%</td>\n",
       "      <td>11.12%</td>\n",
       "      <td>9,797,273</td>\n",
       "    </tr>\n",
       "    <tr>\n",
       "      <th>1</th>\n",
       "      <td>Albania</td>\n",
       "      <td>105</td>\n",
       "      <td>43.10%</td>\n",
       "      <td>28,748</td>\n",
       "      <td>9,000</td>\n",
       "      <td>11.78</td>\n",
       "      <td>4,536</td>\n",
       "      <td>119.05</td>\n",
       "      <td>1.40%</td>\n",
       "      <td>1.62</td>\n",
       "      <td>...</td>\n",
       "      <td>15.0</td>\n",
       "      <td>$1.12</td>\n",
       "      <td>56.90%</td>\n",
       "      <td>1.20</td>\n",
       "      <td>2,854,191</td>\n",
       "      <td>55.70%</td>\n",
       "      <td>18.60%</td>\n",
       "      <td>36.60%</td>\n",
       "      <td>12.33%</td>\n",
       "      <td>1,747,593</td>\n",
       "    </tr>\n",
       "    <tr>\n",
       "      <th>2</th>\n",
       "      <td>Algeria</td>\n",
       "      <td>18</td>\n",
       "      <td>17.40%</td>\n",
       "      <td>2,381,741</td>\n",
       "      <td>317,000</td>\n",
       "      <td>24.28</td>\n",
       "      <td>150,006</td>\n",
       "      <td>151.36</td>\n",
       "      <td>2.00%</td>\n",
       "      <td>3.02</td>\n",
       "      <td>...</td>\n",
       "      <td>112.0</td>\n",
       "      <td>$0.95</td>\n",
       "      <td>28.10%</td>\n",
       "      <td>1.72</td>\n",
       "      <td>43,053,054</td>\n",
       "      <td>41.20%</td>\n",
       "      <td>37.20%</td>\n",
       "      <td>66.10%</td>\n",
       "      <td>11.70%</td>\n",
       "      <td>31,510,100</td>\n",
       "    </tr>\n",
       "    <tr>\n",
       "      <th>3</th>\n",
       "      <td>Andorra</td>\n",
       "      <td>164</td>\n",
       "      <td>40.00%</td>\n",
       "      <td>468</td>\n",
       "      <td>NaN</td>\n",
       "      <td>7.20</td>\n",
       "      <td>469</td>\n",
       "      <td>NaN</td>\n",
       "      <td>NaN</td>\n",
       "      <td>1.27</td>\n",
       "      <td>...</td>\n",
       "      <td>NaN</td>\n",
       "      <td>$6.63</td>\n",
       "      <td>36.40%</td>\n",
       "      <td>3.33</td>\n",
       "      <td>77,142</td>\n",
       "      <td>NaN</td>\n",
       "      <td>NaN</td>\n",
       "      <td>NaN</td>\n",
       "      <td>NaN</td>\n",
       "      <td>67,873</td>\n",
       "    </tr>\n",
       "    <tr>\n",
       "      <th>4</th>\n",
       "      <td>Angola</td>\n",
       "      <td>26</td>\n",
       "      <td>47.50%</td>\n",
       "      <td>1,246,700</td>\n",
       "      <td>117,000</td>\n",
       "      <td>40.73</td>\n",
       "      <td>34,693</td>\n",
       "      <td>261.73</td>\n",
       "      <td>17.10%</td>\n",
       "      <td>5.52</td>\n",
       "      <td>...</td>\n",
       "      <td>241.0</td>\n",
       "      <td>$0.71</td>\n",
       "      <td>33.40%</td>\n",
       "      <td>0.21</td>\n",
       "      <td>31,825,295</td>\n",
       "      <td>77.50%</td>\n",
       "      <td>9.20%</td>\n",
       "      <td>49.10%</td>\n",
       "      <td>6.89%</td>\n",
       "      <td>21,061,025</td>\n",
       "    </tr>\n",
       "  </tbody>\n",
       "</table>\n",
       "<p>5 rows × 27 columns</p>\n",
       "</div>"
      ],
      "text/plain": [
       "       Country Density\\n(P/Km2) Agricultural Land( %) Land Area(Km2)  \\\n",
       "0  Afghanistan               60                58.10%        652,230   \n",
       "1      Albania              105                43.10%         28,748   \n",
       "2      Algeria               18                17.40%      2,381,741   \n",
       "3      Andorra              164                40.00%            468   \n",
       "4       Angola               26                47.50%      1,246,700   \n",
       "\n",
       "  Armed Forces size  Birth Rate Co2-Emissions     CPI CPI Change (%)  \\\n",
       "0           323,000       32.49         8,672   149.9          2.30%   \n",
       "1             9,000       11.78         4,536  119.05          1.40%   \n",
       "2           317,000       24.28       150,006  151.36          2.00%   \n",
       "3               NaN        7.20           469     NaN            NaN   \n",
       "4           117,000       40.73        34,693  261.73         17.10%   \n",
       "\n",
       "   Fertility Rate  ... Maternal mortality ratio Minimum wage  \\\n",
       "0            4.47  ...                    638.0       $0.43    \n",
       "1            1.62  ...                     15.0       $1.12    \n",
       "2            3.02  ...                    112.0       $0.95    \n",
       "3            1.27  ...                      NaN       $6.63    \n",
       "4            5.52  ...                    241.0       $0.71    \n",
       "\n",
       "  Out of pocket health expenditure Physicians per thousand  Population  \\\n",
       "0                           78.40%                    0.28  38,041,754   \n",
       "1                           56.90%                    1.20   2,854,191   \n",
       "2                           28.10%                    1.72  43,053,054   \n",
       "3                           36.40%                    3.33      77,142   \n",
       "4                           33.40%                    0.21  31,825,295   \n",
       "\n",
       "   Population: Labor force participation (%)  Tax revenue (%)  Total tax rate  \\\n",
       "0                                     48.90%            9.30%          71.40%   \n",
       "1                                     55.70%           18.60%          36.60%   \n",
       "2                                     41.20%           37.20%          66.10%   \n",
       "3                                        NaN              NaN             NaN   \n",
       "4                                     77.50%            9.20%          49.10%   \n",
       "\n",
       "  Unemployment rate Urban_population  \n",
       "0            11.12%        9,797,273  \n",
       "1            12.33%        1,747,593  \n",
       "2            11.70%       31,510,100  \n",
       "3               NaN           67,873  \n",
       "4             6.89%       21,061,025  \n",
       "\n",
       "[5 rows x 27 columns]"
      ]
     },
     "execution_count": 12,
     "metadata": {},
     "output_type": "execute_result"
    }
   ],
   "source": [
    "df.head()"
   ]
  },
  {
   "cell_type": "code",
   "execution_count": 152,
   "metadata": {},
   "outputs": [],
   "source": [
    "# Changing the data types and replacing \",\" with \"\"\n",
    "df['Density\\n(P/Km2)'] = df['Density\\n(P/Km2)'].str.replace(',', '').astype('float64')"
   ]
  },
  {
   "cell_type": "code",
   "execution_count": 153,
   "metadata": {},
   "outputs": [],
   "source": [
    "df['Agricultural Land( %)'] = df['Agricultural Land( %)'].str.replace('%', '').astype('float64')"
   ]
  },
  {
   "cell_type": "code",
   "execution_count": 154,
   "metadata": {},
   "outputs": [],
   "source": [
    "df['Land Area(Km2)'] = df['Land Area(Km2)'].str.replace(',', '').astype('float64')"
   ]
  },
  {
   "cell_type": "code",
   "execution_count": 155,
   "metadata": {},
   "outputs": [],
   "source": [
    "df['Armed Forces size'] = df['Armed Forces size'].str.replace(',', '').astype('float64')"
   ]
  },
  {
   "cell_type": "code",
   "execution_count": 156,
   "metadata": {},
   "outputs": [],
   "source": [
    "df['Co2-Emissions'] = df['Co2-Emissions'].str.replace(',', '').astype('float64')"
   ]
  },
  {
   "cell_type": "code",
   "execution_count": 157,
   "metadata": {},
   "outputs": [],
   "source": [
    "df['CPI'] = df['CPI'].str.replace(',', '').astype('float64')"
   ]
  },
  {
   "cell_type": "code",
   "execution_count": 158,
   "metadata": {},
   "outputs": [],
   "source": [
    "df['CPI Change (%)'] = df['CPI Change (%)'].str.replace('%', '').astype('float64')"
   ]
  },
  {
   "cell_type": "code",
   "execution_count": 159,
   "metadata": {},
   "outputs": [],
   "source": [
    "df['Forested Area (%)'] = df['Forested Area (%)'].str.replace('%', '').astype('float64')"
   ]
  },
  {
   "cell_type": "code",
   "execution_count": 160,
   "metadata": {},
   "outputs": [],
   "source": [
    "df['Gasoline Price'] = df['Gasoline Price'].str.replace('$', '').astype('float64') # change col name $"
   ]
  },
  {
   "cell_type": "code",
   "execution_count": 161,
   "metadata": {},
   "outputs": [],
   "source": [
    "df['GDP'] = df['GDP'].str.replace(',', '').str.replace('$','').astype('float64')"
   ]
  },
  {
   "cell_type": "code",
   "execution_count": 162,
   "metadata": {},
   "outputs": [],
   "source": [
    "df['Gross primary education enrollment (%)'] = df['Gross primary education enrollment (%)'].str.replace('%', '').astype('float64')"
   ]
  },
  {
   "cell_type": "code",
   "execution_count": 163,
   "metadata": {},
   "outputs": [],
   "source": [
    "df['Gross tertiary education enrollment (%)'] = df['Gross tertiary education enrollment (%)'].str.replace('%', '').astype('float64')"
   ]
  },
  {
   "cell_type": "code",
   "execution_count": 164,
   "metadata": {},
   "outputs": [],
   "source": [
    "df['Minimum wage'] = df['Minimum wage'].str.replace('$', '').astype('float64') # change col name $"
   ]
  },
  {
   "cell_type": "code",
   "execution_count": 165,
   "metadata": {},
   "outputs": [],
   "source": [
    "df['Out of pocket health expenditure'] = df['Out of pocket health expenditure'].str.replace('%', '').astype('float64') #%"
   ]
  },
  {
   "cell_type": "code",
   "execution_count": 166,
   "metadata": {},
   "outputs": [],
   "source": [
    "df['Population'] = df['Population'].str.replace(',', '').astype('float64')"
   ]
  },
  {
   "cell_type": "code",
   "execution_count": 167,
   "metadata": {},
   "outputs": [],
   "source": [
    "df['Population: Labor force participation (%)'] = df['Population: Labor force participation (%)'].str.replace('%', '').astype('float64')"
   ]
  },
  {
   "cell_type": "code",
   "execution_count": 168,
   "metadata": {},
   "outputs": [],
   "source": [
    "df['Tax revenue (%)'] = df['Tax revenue (%)'].str.replace('%', '').astype('float64')"
   ]
  },
  {
   "cell_type": "code",
   "execution_count": 169,
   "metadata": {},
   "outputs": [],
   "source": [
    "df['Total tax rate'] = df['Total tax rate'].str.replace('%', '').astype('float64') #%"
   ]
  },
  {
   "cell_type": "code",
   "execution_count": 170,
   "metadata": {},
   "outputs": [],
   "source": [
    "df['Unemployment rate'] = df['Unemployment rate'].str.replace('%', '').astype('float64') #%"
   ]
  },
  {
   "cell_type": "code",
   "execution_count": 171,
   "metadata": {},
   "outputs": [],
   "source": [
    "df['Urban_population'] = df['Urban_population'].str.replace(',', '').astype('float64')"
   ]
  },
  {
   "cell_type": "code",
   "execution_count": 33,
   "metadata": {},
   "outputs": [
    {
     "data": {
      "text/html": [
       "<div>\n",
       "<style scoped>\n",
       "    .dataframe tbody tr th:only-of-type {\n",
       "        vertical-align: middle;\n",
       "    }\n",
       "\n",
       "    .dataframe tbody tr th {\n",
       "        vertical-align: top;\n",
       "    }\n",
       "\n",
       "    .dataframe thead th {\n",
       "        text-align: right;\n",
       "    }\n",
       "</style>\n",
       "<table border=\"1\" class=\"dataframe\">\n",
       "  <thead>\n",
       "    <tr style=\"text-align: right;\">\n",
       "      <th></th>\n",
       "      <th>Density\\n(P/Km2)</th>\n",
       "      <th>Agricultural Land( %)</th>\n",
       "      <th>Land Area(Km2)</th>\n",
       "      <th>Armed Forces size</th>\n",
       "      <th>Birth Rate</th>\n",
       "      <th>Co2-Emissions</th>\n",
       "      <th>CPI</th>\n",
       "      <th>CPI Change (%)</th>\n",
       "      <th>Fertility Rate</th>\n",
       "      <th>Forested Area (%)</th>\n",
       "      <th>...</th>\n",
       "      <th>Maternal mortality ratio</th>\n",
       "      <th>Minimum wage</th>\n",
       "      <th>Out of pocket health expenditure</th>\n",
       "      <th>Physicians per thousand</th>\n",
       "      <th>Population</th>\n",
       "      <th>Population: Labor force participation (%)</th>\n",
       "      <th>Tax revenue (%)</th>\n",
       "      <th>Total tax rate</th>\n",
       "      <th>Unemployment rate</th>\n",
       "      <th>Urban_population</th>\n",
       "    </tr>\n",
       "  </thead>\n",
       "  <tbody>\n",
       "    <tr>\n",
       "      <th>count</th>\n",
       "      <td>195.000000</td>\n",
       "      <td>188.000000</td>\n",
       "      <td>1.940000e+02</td>\n",
       "      <td>1.710000e+02</td>\n",
       "      <td>189.000000</td>\n",
       "      <td>1.880000e+02</td>\n",
       "      <td>178.000000</td>\n",
       "      <td>179.000000</td>\n",
       "      <td>188.000000</td>\n",
       "      <td>188.000000</td>\n",
       "      <td>...</td>\n",
       "      <td>181.000000</td>\n",
       "      <td>150.000000</td>\n",
       "      <td>188.000000</td>\n",
       "      <td>188.000000</td>\n",
       "      <td>1.940000e+02</td>\n",
       "      <td>176.000000</td>\n",
       "      <td>169.000000</td>\n",
       "      <td>183.000000</td>\n",
       "      <td>176.000000</td>\n",
       "      <td>1.900000e+02</td>\n",
       "    </tr>\n",
       "    <tr>\n",
       "      <th>mean</th>\n",
       "      <td>356.764103</td>\n",
       "      <td>39.117553</td>\n",
       "      <td>6.896244e+05</td>\n",
       "      <td>1.592749e+05</td>\n",
       "      <td>20.214974</td>\n",
       "      <td>1.777992e+05</td>\n",
       "      <td>190.460955</td>\n",
       "      <td>6.722346</td>\n",
       "      <td>2.698138</td>\n",
       "      <td>32.015426</td>\n",
       "      <td>...</td>\n",
       "      <td>160.392265</td>\n",
       "      <td>2.194133</td>\n",
       "      <td>32.637234</td>\n",
       "      <td>1.839840</td>\n",
       "      <td>3.938116e+07</td>\n",
       "      <td>62.738068</td>\n",
       "      <td>16.573964</td>\n",
       "      <td>40.822404</td>\n",
       "      <td>6.886364</td>\n",
       "      <td>2.230454e+07</td>\n",
       "    </tr>\n",
       "    <tr>\n",
       "      <th>std</th>\n",
       "      <td>1982.888967</td>\n",
       "      <td>21.783052</td>\n",
       "      <td>1.921609e+06</td>\n",
       "      <td>3.806288e+05</td>\n",
       "      <td>9.945774</td>\n",
       "      <td>8.387903e+05</td>\n",
       "      <td>397.947380</td>\n",
       "      <td>24.450414</td>\n",
       "      <td>1.282267</td>\n",
       "      <td>23.791331</td>\n",
       "      <td>...</td>\n",
       "      <td>233.502024</td>\n",
       "      <td>2.970796</td>\n",
       "      <td>19.172697</td>\n",
       "      <td>1.684261</td>\n",
       "      <td>1.450924e+08</td>\n",
       "      <td>10.502907</td>\n",
       "      <td>6.961632</td>\n",
       "      <td>20.557662</td>\n",
       "      <td>5.079216</td>\n",
       "      <td>7.543050e+07</td>\n",
       "    </tr>\n",
       "    <tr>\n",
       "      <th>min</th>\n",
       "      <td>2.000000</td>\n",
       "      <td>0.600000</td>\n",
       "      <td>0.000000e+00</td>\n",
       "      <td>0.000000e+00</td>\n",
       "      <td>5.900000</td>\n",
       "      <td>1.100000e+01</td>\n",
       "      <td>99.030000</td>\n",
       "      <td>-4.300000</td>\n",
       "      <td>0.980000</td>\n",
       "      <td>0.000000</td>\n",
       "      <td>...</td>\n",
       "      <td>2.000000</td>\n",
       "      <td>0.010000</td>\n",
       "      <td>0.200000</td>\n",
       "      <td>0.010000</td>\n",
       "      <td>8.360000e+02</td>\n",
       "      <td>38.000000</td>\n",
       "      <td>0.000000</td>\n",
       "      <td>8.000000</td>\n",
       "      <td>0.090000</td>\n",
       "      <td>5.464000e+03</td>\n",
       "    </tr>\n",
       "    <tr>\n",
       "      <th>25%</th>\n",
       "      <td>35.500000</td>\n",
       "      <td>21.700000</td>\n",
       "      <td>2.382825e+04</td>\n",
       "      <td>1.100000e+04</td>\n",
       "      <td>11.300000</td>\n",
       "      <td>2.304250e+03</td>\n",
       "      <td>113.885000</td>\n",
       "      <td>1.000000</td>\n",
       "      <td>1.705000</td>\n",
       "      <td>11.000000</td>\n",
       "      <td>...</td>\n",
       "      <td>13.000000</td>\n",
       "      <td>0.402500</td>\n",
       "      <td>17.450000</td>\n",
       "      <td>0.332500</td>\n",
       "      <td>1.962678e+06</td>\n",
       "      <td>56.150000</td>\n",
       "      <td>11.700000</td>\n",
       "      <td>30.600000</td>\n",
       "      <td>3.395000</td>\n",
       "      <td>1.152961e+06</td>\n",
       "    </tr>\n",
       "    <tr>\n",
       "      <th>50%</th>\n",
       "      <td>89.000000</td>\n",
       "      <td>39.600000</td>\n",
       "      <td>1.195110e+05</td>\n",
       "      <td>3.100000e+04</td>\n",
       "      <td>17.950000</td>\n",
       "      <td>1.230300e+04</td>\n",
       "      <td>125.340000</td>\n",
       "      <td>2.300000</td>\n",
       "      <td>2.245000</td>\n",
       "      <td>32.000000</td>\n",
       "      <td>...</td>\n",
       "      <td>53.000000</td>\n",
       "      <td>1.045000</td>\n",
       "      <td>30.700000</td>\n",
       "      <td>1.460000</td>\n",
       "      <td>8.826588e+06</td>\n",
       "      <td>62.450000</td>\n",
       "      <td>16.300000</td>\n",
       "      <td>37.200000</td>\n",
       "      <td>5.360000</td>\n",
       "      <td>4.678104e+06</td>\n",
       "    </tr>\n",
       "    <tr>\n",
       "      <th>75%</th>\n",
       "      <td>216.500000</td>\n",
       "      <td>55.375000</td>\n",
       "      <td>5.242560e+05</td>\n",
       "      <td>1.420000e+05</td>\n",
       "      <td>28.750000</td>\n",
       "      <td>6.388425e+04</td>\n",
       "      <td>157.265000</td>\n",
       "      <td>4.250000</td>\n",
       "      <td>3.597500</td>\n",
       "      <td>48.175000</td>\n",
       "      <td>...</td>\n",
       "      <td>186.000000</td>\n",
       "      <td>2.447500</td>\n",
       "      <td>43.975000</td>\n",
       "      <td>2.935000</td>\n",
       "      <td>2.858549e+07</td>\n",
       "      <td>69.500000</td>\n",
       "      <td>21.100000</td>\n",
       "      <td>48.000000</td>\n",
       "      <td>9.490000</td>\n",
       "      <td>1.490324e+07</td>\n",
       "    </tr>\n",
       "    <tr>\n",
       "      <th>max</th>\n",
       "      <td>26337.000000</td>\n",
       "      <td>82.600000</td>\n",
       "      <td>1.709824e+07</td>\n",
       "      <td>3.031000e+06</td>\n",
       "      <td>46.080000</td>\n",
       "      <td>9.893038e+06</td>\n",
       "      <td>4583.710000</td>\n",
       "      <td>254.900000</td>\n",
       "      <td>6.910000</td>\n",
       "      <td>98.300000</td>\n",
       "      <td>...</td>\n",
       "      <td>1150.000000</td>\n",
       "      <td>13.590000</td>\n",
       "      <td>81.600000</td>\n",
       "      <td>8.420000</td>\n",
       "      <td>1.397715e+09</td>\n",
       "      <td>86.800000</td>\n",
       "      <td>37.200000</td>\n",
       "      <td>219.600000</td>\n",
       "      <td>28.180000</td>\n",
       "      <td>8.429340e+08</td>\n",
       "    </tr>\n",
       "  </tbody>\n",
       "</table>\n",
       "<p>8 rows × 26 columns</p>\n",
       "</div>"
      ],
      "text/plain": [
       "       Density\\n(P/Km2)  Agricultural Land( %)  Land Area(Km2)  \\\n",
       "count        195.000000             188.000000    1.940000e+02   \n",
       "mean         356.764103              39.117553    6.896244e+05   \n",
       "std         1982.888967              21.783052    1.921609e+06   \n",
       "min            2.000000               0.600000    0.000000e+00   \n",
       "25%           35.500000              21.700000    2.382825e+04   \n",
       "50%           89.000000              39.600000    1.195110e+05   \n",
       "75%          216.500000              55.375000    5.242560e+05   \n",
       "max        26337.000000              82.600000    1.709824e+07   \n",
       "\n",
       "       Armed Forces size  Birth Rate  Co2-Emissions          CPI  \\\n",
       "count       1.710000e+02  189.000000   1.880000e+02   178.000000   \n",
       "mean        1.592749e+05   20.214974   1.777992e+05   190.460955   \n",
       "std         3.806288e+05    9.945774   8.387903e+05   397.947380   \n",
       "min         0.000000e+00    5.900000   1.100000e+01    99.030000   \n",
       "25%         1.100000e+04   11.300000   2.304250e+03   113.885000   \n",
       "50%         3.100000e+04   17.950000   1.230300e+04   125.340000   \n",
       "75%         1.420000e+05   28.750000   6.388425e+04   157.265000   \n",
       "max         3.031000e+06   46.080000   9.893038e+06  4583.710000   \n",
       "\n",
       "       CPI Change (%)  Fertility Rate  Forested Area (%)  ...  \\\n",
       "count      179.000000      188.000000         188.000000  ...   \n",
       "mean         6.722346        2.698138          32.015426  ...   \n",
       "std         24.450414        1.282267          23.791331  ...   \n",
       "min         -4.300000        0.980000           0.000000  ...   \n",
       "25%          1.000000        1.705000          11.000000  ...   \n",
       "50%          2.300000        2.245000          32.000000  ...   \n",
       "75%          4.250000        3.597500          48.175000  ...   \n",
       "max        254.900000        6.910000          98.300000  ...   \n",
       "\n",
       "       Maternal mortality ratio  Minimum wage  \\\n",
       "count                181.000000    150.000000   \n",
       "mean                 160.392265      2.194133   \n",
       "std                  233.502024      2.970796   \n",
       "min                    2.000000      0.010000   \n",
       "25%                   13.000000      0.402500   \n",
       "50%                   53.000000      1.045000   \n",
       "75%                  186.000000      2.447500   \n",
       "max                 1150.000000     13.590000   \n",
       "\n",
       "       Out of pocket health expenditure  Physicians per thousand  \\\n",
       "count                        188.000000               188.000000   \n",
       "mean                          32.637234                 1.839840   \n",
       "std                           19.172697                 1.684261   \n",
       "min                            0.200000                 0.010000   \n",
       "25%                           17.450000                 0.332500   \n",
       "50%                           30.700000                 1.460000   \n",
       "75%                           43.975000                 2.935000   \n",
       "max                           81.600000                 8.420000   \n",
       "\n",
       "         Population  Population: Labor force participation (%)  \\\n",
       "count  1.940000e+02                                 176.000000   \n",
       "mean   3.938116e+07                                  62.738068   \n",
       "std    1.450924e+08                                  10.502907   \n",
       "min    8.360000e+02                                  38.000000   \n",
       "25%    1.962678e+06                                  56.150000   \n",
       "50%    8.826588e+06                                  62.450000   \n",
       "75%    2.858549e+07                                  69.500000   \n",
       "max    1.397715e+09                                  86.800000   \n",
       "\n",
       "       Tax revenue (%)  Total tax rate  Unemployment rate  Urban_population  \n",
       "count       169.000000      183.000000         176.000000      1.900000e+02  \n",
       "mean         16.573964       40.822404           6.886364      2.230454e+07  \n",
       "std           6.961632       20.557662           5.079216      7.543050e+07  \n",
       "min           0.000000        8.000000           0.090000      5.464000e+03  \n",
       "25%          11.700000       30.600000           3.395000      1.152961e+06  \n",
       "50%          16.300000       37.200000           5.360000      4.678104e+06  \n",
       "75%          21.100000       48.000000           9.490000      1.490324e+07  \n",
       "max          37.200000      219.600000          28.180000      8.429340e+08  \n",
       "\n",
       "[8 rows x 26 columns]"
      ]
     },
     "execution_count": 33,
     "metadata": {},
     "output_type": "execute_result"
    }
   ],
   "source": [
    "# Checking the converted columns\n",
    "df.describe()"
   ]
  },
  {
   "cell_type": "code",
   "execution_count": 34,
   "metadata": {},
   "outputs": [],
   "source": [
    "# Rounding up to 2 decimal places\n",
    "\n",
    "df['Density\\n(P/Km2)'] = df['Density\\n(P/Km2)'].apply(lambda x: '{:.2f}'.format(x))"
   ]
  },
  {
   "cell_type": "code",
   "execution_count": 35,
   "metadata": {},
   "outputs": [],
   "source": [
    "pd.set_option('display.max_columns', None)"
   ]
  },
  {
   "cell_type": "code",
   "execution_count": 36,
   "metadata": {},
   "outputs": [
    {
     "data": {
      "text/html": [
       "<div>\n",
       "<style scoped>\n",
       "    .dataframe tbody tr th:only-of-type {\n",
       "        vertical-align: middle;\n",
       "    }\n",
       "\n",
       "    .dataframe tbody tr th {\n",
       "        vertical-align: top;\n",
       "    }\n",
       "\n",
       "    .dataframe thead th {\n",
       "        text-align: right;\n",
       "    }\n",
       "</style>\n",
       "<table border=\"1\" class=\"dataframe\">\n",
       "  <thead>\n",
       "    <tr style=\"text-align: right;\">\n",
       "      <th></th>\n",
       "      <th>Country</th>\n",
       "      <th>Density\\n(P/Km2)</th>\n",
       "      <th>Agricultural Land( %)</th>\n",
       "      <th>Land Area(Km2)</th>\n",
       "      <th>Armed Forces size</th>\n",
       "      <th>Birth Rate</th>\n",
       "      <th>Co2-Emissions</th>\n",
       "      <th>CPI</th>\n",
       "      <th>CPI Change (%)</th>\n",
       "      <th>Fertility Rate</th>\n",
       "      <th>Forested Area (%)</th>\n",
       "      <th>Gasoline Price</th>\n",
       "      <th>GDP</th>\n",
       "      <th>Gross primary education enrollment (%)</th>\n",
       "      <th>Gross tertiary education enrollment (%)</th>\n",
       "      <th>Infant mortality</th>\n",
       "      <th>Life expectancy</th>\n",
       "      <th>Maternal mortality ratio</th>\n",
       "      <th>Minimum wage</th>\n",
       "      <th>Out of pocket health expenditure</th>\n",
       "      <th>Physicians per thousand</th>\n",
       "      <th>Population</th>\n",
       "      <th>Population: Labor force participation (%)</th>\n",
       "      <th>Tax revenue (%)</th>\n",
       "      <th>Total tax rate</th>\n",
       "      <th>Unemployment rate</th>\n",
       "      <th>Urban_population</th>\n",
       "    </tr>\n",
       "  </thead>\n",
       "  <tbody>\n",
       "    <tr>\n",
       "      <th>0</th>\n",
       "      <td>Afghanistan</td>\n",
       "      <td>60.00</td>\n",
       "      <td>58.1</td>\n",
       "      <td>652230.0</td>\n",
       "      <td>323000.0</td>\n",
       "      <td>32.49</td>\n",
       "      <td>8672.0</td>\n",
       "      <td>149.90</td>\n",
       "      <td>2.3</td>\n",
       "      <td>4.47</td>\n",
       "      <td>2.1</td>\n",
       "      <td>0.70</td>\n",
       "      <td>1.910135e+10</td>\n",
       "      <td>104.0</td>\n",
       "      <td>9.7</td>\n",
       "      <td>47.9</td>\n",
       "      <td>64.5</td>\n",
       "      <td>638.0</td>\n",
       "      <td>0.43</td>\n",
       "      <td>78.4</td>\n",
       "      <td>0.28</td>\n",
       "      <td>38041754.0</td>\n",
       "      <td>48.9</td>\n",
       "      <td>9.3</td>\n",
       "      <td>71.4</td>\n",
       "      <td>11.12</td>\n",
       "      <td>9797273.0</td>\n",
       "    </tr>\n",
       "    <tr>\n",
       "      <th>1</th>\n",
       "      <td>Albania</td>\n",
       "      <td>105.00</td>\n",
       "      <td>43.1</td>\n",
       "      <td>28748.0</td>\n",
       "      <td>9000.0</td>\n",
       "      <td>11.78</td>\n",
       "      <td>4536.0</td>\n",
       "      <td>119.05</td>\n",
       "      <td>1.4</td>\n",
       "      <td>1.62</td>\n",
       "      <td>28.1</td>\n",
       "      <td>1.36</td>\n",
       "      <td>1.527808e+10</td>\n",
       "      <td>107.0</td>\n",
       "      <td>55.0</td>\n",
       "      <td>7.8</td>\n",
       "      <td>78.5</td>\n",
       "      <td>15.0</td>\n",
       "      <td>1.12</td>\n",
       "      <td>56.9</td>\n",
       "      <td>1.20</td>\n",
       "      <td>2854191.0</td>\n",
       "      <td>55.7</td>\n",
       "      <td>18.6</td>\n",
       "      <td>36.6</td>\n",
       "      <td>12.33</td>\n",
       "      <td>1747593.0</td>\n",
       "    </tr>\n",
       "    <tr>\n",
       "      <th>2</th>\n",
       "      <td>Algeria</td>\n",
       "      <td>18.00</td>\n",
       "      <td>17.4</td>\n",
       "      <td>2381741.0</td>\n",
       "      <td>317000.0</td>\n",
       "      <td>24.28</td>\n",
       "      <td>150006.0</td>\n",
       "      <td>151.36</td>\n",
       "      <td>2.0</td>\n",
       "      <td>3.02</td>\n",
       "      <td>0.8</td>\n",
       "      <td>0.28</td>\n",
       "      <td>1.699882e+11</td>\n",
       "      <td>109.9</td>\n",
       "      <td>51.4</td>\n",
       "      <td>20.1</td>\n",
       "      <td>76.7</td>\n",
       "      <td>112.0</td>\n",
       "      <td>0.95</td>\n",
       "      <td>28.1</td>\n",
       "      <td>1.72</td>\n",
       "      <td>43053054.0</td>\n",
       "      <td>41.2</td>\n",
       "      <td>37.2</td>\n",
       "      <td>66.1</td>\n",
       "      <td>11.70</td>\n",
       "      <td>31510100.0</td>\n",
       "    </tr>\n",
       "    <tr>\n",
       "      <th>3</th>\n",
       "      <td>Andorra</td>\n",
       "      <td>164.00</td>\n",
       "      <td>40.0</td>\n",
       "      <td>468.0</td>\n",
       "      <td>NaN</td>\n",
       "      <td>7.20</td>\n",
       "      <td>469.0</td>\n",
       "      <td>NaN</td>\n",
       "      <td>NaN</td>\n",
       "      <td>1.27</td>\n",
       "      <td>34.0</td>\n",
       "      <td>1.51</td>\n",
       "      <td>3.154058e+09</td>\n",
       "      <td>106.4</td>\n",
       "      <td>NaN</td>\n",
       "      <td>2.7</td>\n",
       "      <td>NaN</td>\n",
       "      <td>NaN</td>\n",
       "      <td>6.63</td>\n",
       "      <td>36.4</td>\n",
       "      <td>3.33</td>\n",
       "      <td>77142.0</td>\n",
       "      <td>NaN</td>\n",
       "      <td>NaN</td>\n",
       "      <td>NaN</td>\n",
       "      <td>NaN</td>\n",
       "      <td>67873.0</td>\n",
       "    </tr>\n",
       "    <tr>\n",
       "      <th>4</th>\n",
       "      <td>Angola</td>\n",
       "      <td>26.00</td>\n",
       "      <td>47.5</td>\n",
       "      <td>1246700.0</td>\n",
       "      <td>117000.0</td>\n",
       "      <td>40.73</td>\n",
       "      <td>34693.0</td>\n",
       "      <td>261.73</td>\n",
       "      <td>17.1</td>\n",
       "      <td>5.52</td>\n",
       "      <td>46.3</td>\n",
       "      <td>0.97</td>\n",
       "      <td>9.463542e+10</td>\n",
       "      <td>113.5</td>\n",
       "      <td>9.3</td>\n",
       "      <td>51.6</td>\n",
       "      <td>60.8</td>\n",
       "      <td>241.0</td>\n",
       "      <td>0.71</td>\n",
       "      <td>33.4</td>\n",
       "      <td>0.21</td>\n",
       "      <td>31825295.0</td>\n",
       "      <td>77.5</td>\n",
       "      <td>9.2</td>\n",
       "      <td>49.1</td>\n",
       "      <td>6.89</td>\n",
       "      <td>21061025.0</td>\n",
       "    </tr>\n",
       "  </tbody>\n",
       "</table>\n",
       "</div>"
      ],
      "text/plain": [
       "       Country Density\\n(P/Km2)  Agricultural Land( %)  Land Area(Km2)  \\\n",
       "0  Afghanistan            60.00                   58.1        652230.0   \n",
       "1      Albania           105.00                   43.1         28748.0   \n",
       "2      Algeria            18.00                   17.4       2381741.0   \n",
       "3      Andorra           164.00                   40.0           468.0   \n",
       "4       Angola            26.00                   47.5       1246700.0   \n",
       "\n",
       "   Armed Forces size  Birth Rate  Co2-Emissions     CPI  CPI Change (%)  \\\n",
       "0           323000.0       32.49         8672.0  149.90             2.3   \n",
       "1             9000.0       11.78         4536.0  119.05             1.4   \n",
       "2           317000.0       24.28       150006.0  151.36             2.0   \n",
       "3                NaN        7.20          469.0     NaN             NaN   \n",
       "4           117000.0       40.73        34693.0  261.73            17.1   \n",
       "\n",
       "   Fertility Rate  Forested Area (%)  Gasoline Price           GDP  \\\n",
       "0            4.47                2.1            0.70  1.910135e+10   \n",
       "1            1.62               28.1            1.36  1.527808e+10   \n",
       "2            3.02                0.8            0.28  1.699882e+11   \n",
       "3            1.27               34.0            1.51  3.154058e+09   \n",
       "4            5.52               46.3            0.97  9.463542e+10   \n",
       "\n",
       "   Gross primary education enrollment (%)  \\\n",
       "0                                   104.0   \n",
       "1                                   107.0   \n",
       "2                                   109.9   \n",
       "3                                   106.4   \n",
       "4                                   113.5   \n",
       "\n",
       "   Gross tertiary education enrollment (%)  Infant mortality  Life expectancy  \\\n",
       "0                                      9.7              47.9             64.5   \n",
       "1                                     55.0               7.8             78.5   \n",
       "2                                     51.4              20.1             76.7   \n",
       "3                                      NaN               2.7              NaN   \n",
       "4                                      9.3              51.6             60.8   \n",
       "\n",
       "   Maternal mortality ratio  Minimum wage  Out of pocket health expenditure  \\\n",
       "0                     638.0          0.43                              78.4   \n",
       "1                      15.0          1.12                              56.9   \n",
       "2                     112.0          0.95                              28.1   \n",
       "3                       NaN          6.63                              36.4   \n",
       "4                     241.0          0.71                              33.4   \n",
       "\n",
       "   Physicians per thousand  Population  \\\n",
       "0                     0.28  38041754.0   \n",
       "1                     1.20   2854191.0   \n",
       "2                     1.72  43053054.0   \n",
       "3                     3.33     77142.0   \n",
       "4                     0.21  31825295.0   \n",
       "\n",
       "   Population: Labor force participation (%)  Tax revenue (%)  Total tax rate  \\\n",
       "0                                       48.9              9.3            71.4   \n",
       "1                                       55.7             18.6            36.6   \n",
       "2                                       41.2             37.2            66.1   \n",
       "3                                        NaN              NaN             NaN   \n",
       "4                                       77.5              9.2            49.1   \n",
       "\n",
       "   Unemployment rate  Urban_population  \n",
       "0              11.12         9797273.0  \n",
       "1              12.33         1747593.0  \n",
       "2              11.70        31510100.0  \n",
       "3                NaN           67873.0  \n",
       "4               6.89        21061025.0  "
      ]
     },
     "execution_count": 36,
     "metadata": {},
     "output_type": "execute_result"
    }
   ],
   "source": [
    "df.head()"
   ]
  },
  {
   "cell_type": "code",
   "execution_count": 37,
   "metadata": {},
   "outputs": [
    {
     "name": "stdout",
     "output_type": "stream",
     "text": [
      "0      1.910135e+10\n",
      "1      1.527808e+10\n",
      "2      1.699882e+11\n",
      "3      3.154058e+09\n",
      "4      9.463542e+10\n",
      "           ...     \n",
      "190    4.823593e+11\n",
      "191    2.619212e+11\n",
      "192    2.691440e+10\n",
      "193    2.306472e+10\n",
      "194    2.144076e+10\n",
      "Name: GDP, Length: 195, dtype: float64\n"
     ]
    }
   ],
   "source": [
    "# Checking the data type of the column : GDP\n",
    "print(df['GDP'])"
   ]
  },
  {
   "cell_type": "code",
   "execution_count": 38,
   "metadata": {},
   "outputs": [
    {
     "name": "stdout",
     "output_type": "stream",
     "text": [
      "0       $19,101,353,833 \n",
      "1       $15,278,077,447 \n",
      "2      $169,988,236,398 \n",
      "3        $3,154,057,987 \n",
      "4       $94,635,415,870 \n",
      "             ...        \n",
      "190    $482,359,318,768 \n",
      "191    $261,921,244,843 \n",
      "192     $26,914,402,224 \n",
      "193     $23,064,722,446 \n",
      "194     $21,440,758,800 \n",
      "Name: GDP, Length: 195, dtype: object\n"
     ]
    }
   ],
   "source": [
    "print(data['GDP'])"
   ]
  },
  {
   "cell_type": "code",
   "execution_count": 39,
   "metadata": {},
   "outputs": [
    {
     "data": {
      "text/html": [
       "<div>\n",
       "<style scoped>\n",
       "    .dataframe tbody tr th:only-of-type {\n",
       "        vertical-align: middle;\n",
       "    }\n",
       "\n",
       "    .dataframe tbody tr th {\n",
       "        vertical-align: top;\n",
       "    }\n",
       "\n",
       "    .dataframe thead th {\n",
       "        text-align: right;\n",
       "    }\n",
       "</style>\n",
       "<table border=\"1\" class=\"dataframe\">\n",
       "  <thead>\n",
       "    <tr style=\"text-align: right;\">\n",
       "      <th></th>\n",
       "      <th>Agricultural Land( %)</th>\n",
       "      <th>Land Area(Km2)</th>\n",
       "      <th>Armed Forces size</th>\n",
       "      <th>Birth Rate</th>\n",
       "      <th>Co2-Emissions</th>\n",
       "      <th>CPI</th>\n",
       "      <th>CPI Change (%)</th>\n",
       "      <th>Fertility Rate</th>\n",
       "      <th>Forested Area (%)</th>\n",
       "      <th>Gasoline Price</th>\n",
       "      <th>GDP</th>\n",
       "      <th>Gross primary education enrollment (%)</th>\n",
       "      <th>Gross tertiary education enrollment (%)</th>\n",
       "      <th>Infant mortality</th>\n",
       "      <th>Life expectancy</th>\n",
       "      <th>Maternal mortality ratio</th>\n",
       "      <th>Minimum wage</th>\n",
       "      <th>Out of pocket health expenditure</th>\n",
       "      <th>Physicians per thousand</th>\n",
       "      <th>Population</th>\n",
       "      <th>Population: Labor force participation (%)</th>\n",
       "      <th>Tax revenue (%)</th>\n",
       "      <th>Total tax rate</th>\n",
       "      <th>Unemployment rate</th>\n",
       "      <th>Urban_population</th>\n",
       "    </tr>\n",
       "  </thead>\n",
       "  <tbody>\n",
       "    <tr>\n",
       "      <th>count</th>\n",
       "      <td>188.000000</td>\n",
       "      <td>1.940000e+02</td>\n",
       "      <td>1.710000e+02</td>\n",
       "      <td>189.000000</td>\n",
       "      <td>1.880000e+02</td>\n",
       "      <td>178.000000</td>\n",
       "      <td>179.000000</td>\n",
       "      <td>188.000000</td>\n",
       "      <td>188.000000</td>\n",
       "      <td>175.000000</td>\n",
       "      <td>1.930000e+02</td>\n",
       "      <td>188.000000</td>\n",
       "      <td>183.000000</td>\n",
       "      <td>189.000000</td>\n",
       "      <td>187.000000</td>\n",
       "      <td>181.000000</td>\n",
       "      <td>150.000000</td>\n",
       "      <td>188.000000</td>\n",
       "      <td>188.000000</td>\n",
       "      <td>1.940000e+02</td>\n",
       "      <td>176.000000</td>\n",
       "      <td>169.000000</td>\n",
       "      <td>183.000000</td>\n",
       "      <td>176.000000</td>\n",
       "      <td>1.900000e+02</td>\n",
       "    </tr>\n",
       "    <tr>\n",
       "      <th>mean</th>\n",
       "      <td>39.117553</td>\n",
       "      <td>6.896244e+05</td>\n",
       "      <td>1.592749e+05</td>\n",
       "      <td>20.214974</td>\n",
       "      <td>1.777992e+05</td>\n",
       "      <td>190.460955</td>\n",
       "      <td>6.722346</td>\n",
       "      <td>2.698138</td>\n",
       "      <td>32.015426</td>\n",
       "      <td>1.002457</td>\n",
       "      <td>4.772959e+11</td>\n",
       "      <td>102.470213</td>\n",
       "      <td>37.963388</td>\n",
       "      <td>21.332804</td>\n",
       "      <td>72.279679</td>\n",
       "      <td>160.392265</td>\n",
       "      <td>2.194133</td>\n",
       "      <td>32.637234</td>\n",
       "      <td>1.839840</td>\n",
       "      <td>3.938116e+07</td>\n",
       "      <td>62.738068</td>\n",
       "      <td>16.573964</td>\n",
       "      <td>40.822404</td>\n",
       "      <td>6.886364</td>\n",
       "      <td>2.230454e+07</td>\n",
       "    </tr>\n",
       "    <tr>\n",
       "      <th>std</th>\n",
       "      <td>21.783052</td>\n",
       "      <td>1.921609e+06</td>\n",
       "      <td>3.806288e+05</td>\n",
       "      <td>9.945774</td>\n",
       "      <td>8.387903e+05</td>\n",
       "      <td>397.947380</td>\n",
       "      <td>24.450414</td>\n",
       "      <td>1.282267</td>\n",
       "      <td>23.791331</td>\n",
       "      <td>0.368858</td>\n",
       "      <td>2.172173e+12</td>\n",
       "      <td>13.151607</td>\n",
       "      <td>29.261022</td>\n",
       "      <td>19.548058</td>\n",
       "      <td>7.483661</td>\n",
       "      <td>233.502024</td>\n",
       "      <td>2.970796</td>\n",
       "      <td>19.172697</td>\n",
       "      <td>1.684261</td>\n",
       "      <td>1.450924e+08</td>\n",
       "      <td>10.502907</td>\n",
       "      <td>6.961632</td>\n",
       "      <td>20.557662</td>\n",
       "      <td>5.079216</td>\n",
       "      <td>7.543050e+07</td>\n",
       "    </tr>\n",
       "    <tr>\n",
       "      <th>min</th>\n",
       "      <td>0.600000</td>\n",
       "      <td>0.000000e+00</td>\n",
       "      <td>0.000000e+00</td>\n",
       "      <td>5.900000</td>\n",
       "      <td>1.100000e+01</td>\n",
       "      <td>99.030000</td>\n",
       "      <td>-4.300000</td>\n",
       "      <td>0.980000</td>\n",
       "      <td>0.000000</td>\n",
       "      <td>0.000000</td>\n",
       "      <td>4.727146e+07</td>\n",
       "      <td>23.400000</td>\n",
       "      <td>0.800000</td>\n",
       "      <td>1.400000</td>\n",
       "      <td>52.800000</td>\n",
       "      <td>2.000000</td>\n",
       "      <td>0.010000</td>\n",
       "      <td>0.200000</td>\n",
       "      <td>0.010000</td>\n",
       "      <td>8.360000e+02</td>\n",
       "      <td>38.000000</td>\n",
       "      <td>0.000000</td>\n",
       "      <td>8.000000</td>\n",
       "      <td>0.090000</td>\n",
       "      <td>5.464000e+03</td>\n",
       "    </tr>\n",
       "    <tr>\n",
       "      <th>25%</th>\n",
       "      <td>21.700000</td>\n",
       "      <td>2.382825e+04</td>\n",
       "      <td>1.100000e+04</td>\n",
       "      <td>11.300000</td>\n",
       "      <td>2.304250e+03</td>\n",
       "      <td>113.885000</td>\n",
       "      <td>1.000000</td>\n",
       "      <td>1.705000</td>\n",
       "      <td>11.000000</td>\n",
       "      <td>0.755000</td>\n",
       "      <td>8.454620e+09</td>\n",
       "      <td>98.950000</td>\n",
       "      <td>12.150000</td>\n",
       "      <td>6.000000</td>\n",
       "      <td>67.000000</td>\n",
       "      <td>13.000000</td>\n",
       "      <td>0.402500</td>\n",
       "      <td>17.450000</td>\n",
       "      <td>0.332500</td>\n",
       "      <td>1.962678e+06</td>\n",
       "      <td>56.150000</td>\n",
       "      <td>11.700000</td>\n",
       "      <td>30.600000</td>\n",
       "      <td>3.395000</td>\n",
       "      <td>1.152961e+06</td>\n",
       "    </tr>\n",
       "    <tr>\n",
       "      <th>50%</th>\n",
       "      <td>39.600000</td>\n",
       "      <td>1.195110e+05</td>\n",
       "      <td>3.100000e+04</td>\n",
       "      <td>17.950000</td>\n",
       "      <td>1.230300e+04</td>\n",
       "      <td>125.340000</td>\n",
       "      <td>2.300000</td>\n",
       "      <td>2.245000</td>\n",
       "      <td>32.000000</td>\n",
       "      <td>0.980000</td>\n",
       "      <td>3.438723e+10</td>\n",
       "      <td>102.550000</td>\n",
       "      <td>31.200000</td>\n",
       "      <td>14.000000</td>\n",
       "      <td>73.200000</td>\n",
       "      <td>53.000000</td>\n",
       "      <td>1.045000</td>\n",
       "      <td>30.700000</td>\n",
       "      <td>1.460000</td>\n",
       "      <td>8.826588e+06</td>\n",
       "      <td>62.450000</td>\n",
       "      <td>16.300000</td>\n",
       "      <td>37.200000</td>\n",
       "      <td>5.360000</td>\n",
       "      <td>4.678104e+06</td>\n",
       "    </tr>\n",
       "    <tr>\n",
       "      <th>75%</th>\n",
       "      <td>55.375000</td>\n",
       "      <td>5.242560e+05</td>\n",
       "      <td>1.420000e+05</td>\n",
       "      <td>28.750000</td>\n",
       "      <td>6.388425e+04</td>\n",
       "      <td>157.265000</td>\n",
       "      <td>4.250000</td>\n",
       "      <td>3.597500</td>\n",
       "      <td>48.175000</td>\n",
       "      <td>1.240000</td>\n",
       "      <td>2.340940e+11</td>\n",
       "      <td>108.025000</td>\n",
       "      <td>63.150000</td>\n",
       "      <td>32.700000</td>\n",
       "      <td>77.500000</td>\n",
       "      <td>186.000000</td>\n",
       "      <td>2.447500</td>\n",
       "      <td>43.975000</td>\n",
       "      <td>2.935000</td>\n",
       "      <td>2.858549e+07</td>\n",
       "      <td>69.500000</td>\n",
       "      <td>21.100000</td>\n",
       "      <td>48.000000</td>\n",
       "      <td>9.490000</td>\n",
       "      <td>1.490324e+07</td>\n",
       "    </tr>\n",
       "    <tr>\n",
       "      <th>max</th>\n",
       "      <td>82.600000</td>\n",
       "      <td>1.709824e+07</td>\n",
       "      <td>3.031000e+06</td>\n",
       "      <td>46.080000</td>\n",
       "      <td>9.893038e+06</td>\n",
       "      <td>4583.710000</td>\n",
       "      <td>254.900000</td>\n",
       "      <td>6.910000</td>\n",
       "      <td>98.300000</td>\n",
       "      <td>2.000000</td>\n",
       "      <td>2.142770e+13</td>\n",
       "      <td>142.500000</td>\n",
       "      <td>136.600000</td>\n",
       "      <td>84.500000</td>\n",
       "      <td>85.400000</td>\n",
       "      <td>1150.000000</td>\n",
       "      <td>13.590000</td>\n",
       "      <td>81.600000</td>\n",
       "      <td>8.420000</td>\n",
       "      <td>1.397715e+09</td>\n",
       "      <td>86.800000</td>\n",
       "      <td>37.200000</td>\n",
       "      <td>219.600000</td>\n",
       "      <td>28.180000</td>\n",
       "      <td>8.429340e+08</td>\n",
       "    </tr>\n",
       "  </tbody>\n",
       "</table>\n",
       "</div>"
      ],
      "text/plain": [
       "       Agricultural Land( %)  Land Area(Km2)  Armed Forces size  Birth Rate  \\\n",
       "count             188.000000    1.940000e+02       1.710000e+02  189.000000   \n",
       "mean               39.117553    6.896244e+05       1.592749e+05   20.214974   \n",
       "std                21.783052    1.921609e+06       3.806288e+05    9.945774   \n",
       "min                 0.600000    0.000000e+00       0.000000e+00    5.900000   \n",
       "25%                21.700000    2.382825e+04       1.100000e+04   11.300000   \n",
       "50%                39.600000    1.195110e+05       3.100000e+04   17.950000   \n",
       "75%                55.375000    5.242560e+05       1.420000e+05   28.750000   \n",
       "max                82.600000    1.709824e+07       3.031000e+06   46.080000   \n",
       "\n",
       "       Co2-Emissions          CPI  CPI Change (%)  Fertility Rate  \\\n",
       "count   1.880000e+02   178.000000      179.000000      188.000000   \n",
       "mean    1.777992e+05   190.460955        6.722346        2.698138   \n",
       "std     8.387903e+05   397.947380       24.450414        1.282267   \n",
       "min     1.100000e+01    99.030000       -4.300000        0.980000   \n",
       "25%     2.304250e+03   113.885000        1.000000        1.705000   \n",
       "50%     1.230300e+04   125.340000        2.300000        2.245000   \n",
       "75%     6.388425e+04   157.265000        4.250000        3.597500   \n",
       "max     9.893038e+06  4583.710000      254.900000        6.910000   \n",
       "\n",
       "       Forested Area (%)  Gasoline Price           GDP  \\\n",
       "count         188.000000      175.000000  1.930000e+02   \n",
       "mean           32.015426        1.002457  4.772959e+11   \n",
       "std            23.791331        0.368858  2.172173e+12   \n",
       "min             0.000000        0.000000  4.727146e+07   \n",
       "25%            11.000000        0.755000  8.454620e+09   \n",
       "50%            32.000000        0.980000  3.438723e+10   \n",
       "75%            48.175000        1.240000  2.340940e+11   \n",
       "max            98.300000        2.000000  2.142770e+13   \n",
       "\n",
       "       Gross primary education enrollment (%)  \\\n",
       "count                              188.000000   \n",
       "mean                               102.470213   \n",
       "std                                 13.151607   \n",
       "min                                 23.400000   \n",
       "25%                                 98.950000   \n",
       "50%                                102.550000   \n",
       "75%                                108.025000   \n",
       "max                                142.500000   \n",
       "\n",
       "       Gross tertiary education enrollment (%)  Infant mortality  \\\n",
       "count                               183.000000        189.000000   \n",
       "mean                                 37.963388         21.332804   \n",
       "std                                  29.261022         19.548058   \n",
       "min                                   0.800000          1.400000   \n",
       "25%                                  12.150000          6.000000   \n",
       "50%                                  31.200000         14.000000   \n",
       "75%                                  63.150000         32.700000   \n",
       "max                                 136.600000         84.500000   \n",
       "\n",
       "       Life expectancy  Maternal mortality ratio  Minimum wage  \\\n",
       "count       187.000000                181.000000    150.000000   \n",
       "mean         72.279679                160.392265      2.194133   \n",
       "std           7.483661                233.502024      2.970796   \n",
       "min          52.800000                  2.000000      0.010000   \n",
       "25%          67.000000                 13.000000      0.402500   \n",
       "50%          73.200000                 53.000000      1.045000   \n",
       "75%          77.500000                186.000000      2.447500   \n",
       "max          85.400000               1150.000000     13.590000   \n",
       "\n",
       "       Out of pocket health expenditure  Physicians per thousand  \\\n",
       "count                        188.000000               188.000000   \n",
       "mean                          32.637234                 1.839840   \n",
       "std                           19.172697                 1.684261   \n",
       "min                            0.200000                 0.010000   \n",
       "25%                           17.450000                 0.332500   \n",
       "50%                           30.700000                 1.460000   \n",
       "75%                           43.975000                 2.935000   \n",
       "max                           81.600000                 8.420000   \n",
       "\n",
       "         Population  Population: Labor force participation (%)  \\\n",
       "count  1.940000e+02                                 176.000000   \n",
       "mean   3.938116e+07                                  62.738068   \n",
       "std    1.450924e+08                                  10.502907   \n",
       "min    8.360000e+02                                  38.000000   \n",
       "25%    1.962678e+06                                  56.150000   \n",
       "50%    8.826588e+06                                  62.450000   \n",
       "75%    2.858549e+07                                  69.500000   \n",
       "max    1.397715e+09                                  86.800000   \n",
       "\n",
       "       Tax revenue (%)  Total tax rate  Unemployment rate  Urban_population  \n",
       "count       169.000000      183.000000         176.000000      1.900000e+02  \n",
       "mean         16.573964       40.822404           6.886364      2.230454e+07  \n",
       "std           6.961632       20.557662           5.079216      7.543050e+07  \n",
       "min           0.000000        8.000000           0.090000      5.464000e+03  \n",
       "25%          11.700000       30.600000           3.395000      1.152961e+06  \n",
       "50%          16.300000       37.200000           5.360000      4.678104e+06  \n",
       "75%          21.100000       48.000000           9.490000      1.490324e+07  \n",
       "max          37.200000      219.600000          28.180000      8.429340e+08  "
      ]
     },
     "execution_count": 39,
     "metadata": {},
     "output_type": "execute_result"
    }
   ],
   "source": [
    "df.describe()"
   ]
  },
  {
   "cell_type": "code",
   "execution_count": 40,
   "metadata": {},
   "outputs": [
    {
     "data": {
      "text/plain": [
       "<AxesSubplot:>"
      ]
     },
     "execution_count": 40,
     "metadata": {},
     "output_type": "execute_result"
    },
    {
     "data": {
      "image/png": "[encoded data removed]",
      "text/plain": [
       "<Figure size 432x288 with 1 Axes>"
      ]
     },
     "metadata": {
      "needs_background": "light"
     },
     "output_type": "display_data"
    }
   ],
   "source": [
    "# Plotting boxplots to detect any outliers\n",
    "\n",
    "# Population Density\n",
    "\n",
    "sb.boxplot(df['Density\\n(P/Km2)']) \n",
    "\n",
    "# Population densities can go beyond 25000 in highly populated regions"
   ]
  },
  {
   "cell_type": "code",
   "execution_count": 41,
   "metadata": {},
   "outputs": [
    {
     "data": {
      "text/plain": [
       "<AxesSubplot:>"
      ]
     },
     "execution_count": 41,
     "metadata": {},
     "output_type": "execute_result"
    },
    {
     "data": {
      "image/png": "[encoded data removed]",
      "text/plain": [
       "<Figure size 432x288 with 1 Axes>"
      ]
     },
     "metadata": {
      "needs_background": "light"
     },
     "output_type": "display_data"
    }
   ],
   "source": [
    "# Agricultural Land Percentage\n",
    "\n",
    "sb.boxplot(df['Agricultural Land( %)'])"
   ]
  },
  {
   "cell_type": "code",
   "execution_count": 42,
   "metadata": {},
   "outputs": [
    {
     "data": {
      "text/plain": [
       "<AxesSubplot:>"
      ]
     },
     "execution_count": 42,
     "metadata": {},
     "output_type": "execute_result"
    },
    {
     "data": {
      "image/png": "[encoded data removed]",
      "text/plain": [
       "<Figure size 432x288 with 1 Axes>"
      ]
     },
     "metadata": {
      "needs_background": "light"
     },
     "output_type": "display_data"
    }
   ],
   "source": [
    "# Land Area\n",
    "sb.boxplot(df['Land Area(Km2)'])"
   ]
  },
  {
   "cell_type": "code",
   "execution_count": 43,
   "metadata": {},
   "outputs": [
    {
     "data": {
      "text/plain": [
       "<AxesSubplot:>"
      ]
     },
     "execution_count": 43,
     "metadata": {},
     "output_type": "execute_result"
    },
    {
     "data": {
      "image/png": "[encoded data removed]",
      "text/plain": [
       "<Figure size 432x288 with 1 Axes>"
      ]
     },
     "metadata": {
      "needs_background": "light"
     },
     "output_type": "display_data"
    }
   ],
   "source": [
    "# Armed Forces Size\n",
    "sb.boxplot(df['Armed Forces size'])"
   ]
  },
  {
   "cell_type": "code",
   "execution_count": 44,
   "metadata": {},
   "outputs": [
    {
     "data": {
      "text/plain": [
       "<AxesSubplot:>"
      ]
     },
     "execution_count": 44,
     "metadata": {},
     "output_type": "execute_result"
    },
    {
     "data": {
      "image/png": "[encoded data removed]",
      "text/plain": [
       "<Figure size 432x288 with 1 Axes>"
      ]
     },
     "metadata": {
      "needs_background": "light"
     },
     "output_type": "display_data"
    }
   ],
   "source": [
    "# Birth Rate\n",
    "\n",
    "sb.boxplot(df['Birth Rate'])"
   ]
  },
  {
   "cell_type": "code",
   "execution_count": 45,
   "metadata": {},
   "outputs": [
    {
     "data": {
      "text/plain": [
       "<AxesSubplot:>"
      ]
     },
     "execution_count": 45,
     "metadata": {},
     "output_type": "execute_result"
    },
    {
     "data": {
      "image/png": "[encoded data removed]",
      "text/plain": [
       "<Figure size 432x288 with 1 Axes>"
      ]
     },
     "metadata": {
      "needs_background": "light"
     },
     "output_type": "display_data"
    }
   ],
   "source": [
    "# CO2 Emissions\n",
    "\n",
    "sb.boxplot(df['Co2-Emissions'])"
   ]
  },
  {
   "cell_type": "code",
   "execution_count": 46,
   "metadata": {},
   "outputs": [
    {
     "data": {
      "text/plain": [
       "<AxesSubplot:>"
      ]
     },
     "execution_count": 46,
     "metadata": {},
     "output_type": "execute_result"
    },
    {
     "data": {
      "image/png": "[encoded data removed]",
      "text/plain": [
       "<Figure size 432x288 with 1 Axes>"
      ]
     },
     "metadata": {
      "needs_background": "light"
     },
     "output_type": "display_data"
    }
   ],
   "source": [
    "# CPI\n",
    "\n",
    "sb.boxplot(df['CPI'])"
   ]
  },
  {
   "cell_type": "code",
   "execution_count": null,
   "metadata": {},
   "outputs": [],
   "source": []
  },
  {
   "cell_type": "code",
   "execution_count": 47,
   "metadata": {},
   "outputs": [],
   "source": [
    "## df['CPI Change (%)'] = df['CPI Change (%)'].str.replace('%', '').astype('float64')"
   ]
  },
  {
   "cell_type": "code",
   "execution_count": 47,
   "metadata": {},
   "outputs": [
    {
     "name": "stdout",
     "output_type": "stream",
     "text": [
      "0        2.3\n",
      "1        1.4\n",
      "2        2.0\n",
      "3        NaN\n",
      "4       17.1\n",
      "       ...  \n",
      "190    254.9\n",
      "191      2.8\n",
      "192      8.1\n",
      "193      9.2\n",
      "194      0.9\n",
      "Name: CPI Change (%), Length: 195, dtype: float64\n"
     ]
    }
   ],
   "source": [
    "# Checking the converted column values\n",
    "\n",
    "print(df['CPI Change (%)'])"
   ]
  },
  {
   "cell_type": "code",
   "execution_count": null,
   "metadata": {},
   "outputs": [],
   "source": [
    "\n"
   ]
  },
  {
   "cell_type": "code",
   "execution_count": 49,
   "metadata": {},
   "outputs": [
    {
     "data": {
      "text/plain": [
       "<AxesSubplot:>"
      ]
     },
     "execution_count": 49,
     "metadata": {},
     "output_type": "execute_result"
    },
    {
     "data": {
      "image/png": "[encoded data removed]",
      "text/plain": [
       "<Figure size 432x288 with 1 Axes>"
      ]
     },
     "metadata": {
      "needs_background": "light"
     },
     "output_type": "display_data"
    }
   ],
   "source": [
    "# Fertility rate\n",
    "\n",
    "sb.boxplot(df['Fertility Rate'])\n",
    "\n",
    "# 7 is the highest fertility rate in the world"
   ]
  },
  {
   "cell_type": "code",
   "execution_count": 50,
   "metadata": {},
   "outputs": [
    {
     "data": {
      "text/plain": [
       "<AxesSubplot:>"
      ]
     },
     "execution_count": 50,
     "metadata": {},
     "output_type": "execute_result"
    },
    {
     "data": {
      "image/png": "[encoded data removed]",
      "text/plain": [
       "<Figure size 432x288 with 1 Axes>"
      ]
     },
     "metadata": {
      "needs_background": "light"
     },
     "output_type": "display_data"
    }
   ],
   "source": [
    "# Forested area percentage\n",
    "\n",
    "sb.boxplot(df['Forested Area (%)'])"
   ]
  },
  {
   "cell_type": "code",
   "execution_count": 51,
   "metadata": {},
   "outputs": [
    {
     "data": {
      "text/plain": [
       "<AxesSubplot:>"
      ]
     },
     "execution_count": 51,
     "metadata": {},
     "output_type": "execute_result"
    },
    {
     "data": {
      "image/png": "[encoded data removed]",
      "text/plain": [
       "<Figure size 432x288 with 1 Axes>"
      ]
     },
     "metadata": {
      "needs_background": "light"
     },
     "output_type": "display_data"
    }
   ],
   "source": [
    "# Gasoline Price\n",
    "\n",
    "sb.boxplot(df['Gasoline Price'])"
   ]
  },
  {
   "cell_type": "code",
   "execution_count": 52,
   "metadata": {},
   "outputs": [
    {
     "data": {
      "text/plain": [
       "<AxesSubplot:>"
      ]
     },
     "execution_count": 52,
     "metadata": {},
     "output_type": "execute_result"
    },
    {
     "data": {
      "image/png": "[encoded data removed]",
      "text/plain": [
       "<Figure size 432x288 with 1 Axes>"
      ]
     },
     "metadata": {
      "needs_background": "light"
     },
     "output_type": "display_data"
    }
   ],
   "source": [
    "# GDP\n",
    "\n",
    "sb.boxplot(df['GDP'])"
   ]
  },
  {
   "cell_type": "code",
   "execution_count": 53,
   "metadata": {},
   "outputs": [
    {
     "data": {
      "text/plain": [
       "<AxesSubplot:>"
      ]
     },
     "execution_count": 53,
     "metadata": {},
     "output_type": "execute_result"
    },
    {
     "data": {
      "image/png": "[encoded data removed]",
      "text/plain": [
       "<Figure size 432x288 with 1 Axes>"
      ]
     },
     "metadata": {
      "needs_background": "light"
     },
     "output_type": "display_data"
    }
   ],
   "source": [
    "# Gross primary education enrollment percentage\n",
    "\n",
    "sb.boxplot(df['Gross primary education enrollment (%)'])"
   ]
  },
  {
   "cell_type": "code",
   "execution_count": 175,
   "metadata": {},
   "outputs": [
    {
     "name": "stdout",
     "output_type": "stream",
     "text": [
      "0      104.0\n",
      "1      107.0\n",
      "2      109.9\n",
      "3      106.4\n",
      "4      113.5\n",
      "       ...  \n",
      "190     97.2\n",
      "191    110.6\n",
      "192     93.6\n",
      "193     98.7\n",
      "194    109.9\n",
      "Name: Gross primary education enrollment (%), Length: 195, dtype: float64\n"
     ]
    }
   ],
   "source": [
    "# Check this\n",
    "\n",
    "print(df['Gross primary education enrollment (%)'])"
   ]
  },
  {
   "cell_type": "code",
   "execution_count": 54,
   "metadata": {},
   "outputs": [
    {
     "data": {
      "text/plain": [
       "<AxesSubplot:>"
      ]
     },
     "execution_count": 54,
     "metadata": {},
     "output_type": "execute_result"
    },
    {
     "data": {
      "image/png": "[encoded data removed]",
      "text/plain": [
       "<Figure size 432x288 with 1 Axes>"
      ]
     },
     "metadata": {
      "needs_background": "light"
     },
     "output_type": "display_data"
    }
   ],
   "source": [
    "# Gross tertiary education enrollment percentage\n",
    "\n",
    "sb.boxplot(df['Gross tertiary education enrollment (%)'])"
   ]
  },
  {
   "cell_type": "code",
   "execution_count": 55,
   "metadata": {},
   "outputs": [
    {
     "data": {
      "text/plain": [
       "<AxesSubplot:>"
      ]
     },
     "execution_count": 55,
     "metadata": {},
     "output_type": "execute_result"
    },
    {
     "data": {
      "image/png": "[encoded data removed]",
      "text/plain": [
       "<Figure size 432x288 with 1 Axes>"
      ]
     },
     "metadata": {
      "needs_background": "light"
     },
     "output_type": "display_data"
    }
   ],
   "source": [
    "# Infant mortality\n",
    "\n",
    "sb.boxplot(df['Infant mortality'])\n",
    "\n",
    "# Highest infant mortality in the world goes upto 103"
   ]
  },
  {
   "cell_type": "code",
   "execution_count": 56,
   "metadata": {},
   "outputs": [
    {
     "data": {
      "text/plain": [
       "<AxesSubplot:>"
      ]
     },
     "execution_count": 56,
     "metadata": {},
     "output_type": "execute_result"
    },
    {
     "data": {
      "image/png": "[encoded data removed]",
      "text/plain": [
       "<Figure size 432x288 with 1 Axes>"
      ]
     },
     "metadata": {
      "needs_background": "light"
     },
     "output_type": "display_data"
    }
   ],
   "source": [
    "# Life expectancy\n",
    "\n",
    "sb.boxplot(df['Life expectancy'])"
   ]
  },
  {
   "cell_type": "code",
   "execution_count": 57,
   "metadata": {},
   "outputs": [
    {
     "data": {
      "text/plain": [
       "<AxesSubplot:>"
      ]
     },
     "execution_count": 57,
     "metadata": {},
     "output_type": "execute_result"
    },
    {
     "data": {
      "image/png": "[encoded data removed]",
      "text/plain": [
       "<Figure size 432x288 with 1 Axes>"
      ]
     },
     "metadata": {
      "needs_background": "light"
     },
     "output_type": "display_data"
    }
   ],
   "source": [
    "# Maternal mortality ratio - not required\n",
    "\n",
    "sb.boxplot(df['Maternal mortality ratio'])"
   ]
  },
  {
   "cell_type": "code",
   "execution_count": 176,
   "metadata": {},
   "outputs": [
    {
     "name": "stdout",
     "output_type": "stream",
     "text": [
      "0      638.0\n",
      "1       15.0\n",
      "2      112.0\n",
      "3        NaN\n",
      "4      241.0\n",
      "       ...  \n",
      "190    125.0\n",
      "191     43.0\n",
      "192    164.0\n",
      "193    213.0\n",
      "194    458.0\n",
      "Name: Maternal mortality ratio, Length: 195, dtype: float64\n"
     ]
    }
   ],
   "source": [
    "# check NaN\n",
    "print(df['Maternal mortality ratio'])"
   ]
  },
  {
   "cell_type": "code",
   "execution_count": 58,
   "metadata": {},
   "outputs": [
    {
     "data": {
      "text/plain": [
       "<AxesSubplot:>"
      ]
     },
     "execution_count": 58,
     "metadata": {},
     "output_type": "execute_result"
    },
    {
     "data": {
      "image/png": "[encoded data removed]",
      "text/plain": [
       "<Figure size 432x288 with 1 Axes>"
      ]
     },
     "metadata": {
      "needs_background": "light"
     },
     "output_type": "display_data"
    }
   ],
   "source": [
    "# Minimum wage\n",
    "\n",
    "sb.boxplot(df['Minimum wage'])"
   ]
  },
  {
   "cell_type": "code",
   "execution_count": 177,
   "metadata": {},
   "outputs": [
    {
     "name": "stdout",
     "output_type": "stream",
     "text": [
      "0      0.43\n",
      "1      1.12\n",
      "2      0.95\n",
      "3      6.63\n",
      "4      0.71\n",
      "       ... \n",
      "190    0.01\n",
      "191    0.73\n",
      "192     NaN\n",
      "193    0.24\n",
      "194     NaN\n",
      "Name: Minimum wage, Length: 195, dtype: float64\n"
     ]
    }
   ],
   "source": [
    "print(df['Minimum wage'])"
   ]
  },
  {
   "cell_type": "code",
   "execution_count": 59,
   "metadata": {},
   "outputs": [
    {
     "data": {
      "text/plain": [
       "<AxesSubplot:>"
      ]
     },
     "execution_count": 59,
     "metadata": {},
     "output_type": "execute_result"
    },
    {
     "data": {
      "image/png": "[encoded data removed]",
      "text/plain": [
       "<Figure size 432x288 with 1 Axes>"
      ]
     },
     "metadata": {
      "needs_background": "light"
     },
     "output_type": "display_data"
    }
   ],
   "source": [
    "# Out of pocket health expenditure\n",
    "\n",
    "sb.boxplot(df['Out of pocket health expenditure'])"
   ]
  },
  {
   "cell_type": "code",
   "execution_count": 60,
   "metadata": {},
   "outputs": [
    {
     "data": {
      "text/plain": [
       "<AxesSubplot:>"
      ]
     },
     "execution_count": 60,
     "metadata": {},
     "output_type": "execute_result"
    },
    {
     "data": {
      "image/png": "[encoded data removed]",
      "text/plain": [
       "<Figure size 432x288 with 1 Axes>"
      ]
     },
     "metadata": {
      "needs_background": "light"
     },
     "output_type": "display_data"
    }
   ],
   "source": [
    "# Physicians per thousand\n",
    "\n",
    "sb.boxplot(df['Physicians per thousand'])\n",
    "\n",
    "# Number of physicians per 1000 people can go upto 84"
   ]
  },
  {
   "cell_type": "code",
   "execution_count": 61,
   "metadata": {},
   "outputs": [
    {
     "data": {
      "text/plain": [
       "<AxesSubplot:>"
      ]
     },
     "execution_count": 61,
     "metadata": {},
     "output_type": "execute_result"
    },
    {
     "data": {
      "image/png": "[encoded data removed]",
      "text/plain": [
       "<Figure size 432x288 with 1 Axes>"
      ]
     },
     "metadata": {
      "needs_background": "light"
     },
     "output_type": "display_data"
    }
   ],
   "source": [
    "# Population\n",
    "\n",
    "sb.boxplot(df['Population'])"
   ]
  },
  {
   "cell_type": "code",
   "execution_count": 62,
   "metadata": {},
   "outputs": [
    {
     "data": {
      "text/plain": [
       "<AxesSubplot:>"
      ]
     },
     "execution_count": 62,
     "metadata": {},
     "output_type": "execute_result"
    },
    {
     "data": {
      "image/png": "[encoded data removed]",
      "text/plain": [
       "<Figure size 432x288 with 1 Axes>"
      ]
     },
     "metadata": {
      "needs_background": "light"
     },
     "output_type": "display_data"
    }
   ],
   "source": [
    "# Population: Labor force participation percentage\n",
    "\n",
    "sb.boxplot(df['Population: Labor force participation (%)'])"
   ]
  },
  {
   "cell_type": "code",
   "execution_count": 63,
   "metadata": {},
   "outputs": [
    {
     "data": {
      "text/plain": [
       "<AxesSubplot:>"
      ]
     },
     "execution_count": 63,
     "metadata": {},
     "output_type": "execute_result"
    },
    {
     "data": {
      "image/png": "[encoded data removed]",
      "text/plain": [
       "<Figure size 432x288 with 1 Axes>"
      ]
     },
     "metadata": {
      "needs_background": "light"
     },
     "output_type": "display_data"
    }
   ],
   "source": [
    "# Tax revenue percentage\n",
    "\n",
    "sb.boxplot(df['Tax revenue (%)'])\n",
    "\n",
    "# Highest tax revenue percentage go upto 46.3%"
   ]
  },
  {
   "cell_type": "code",
   "execution_count": 64,
   "metadata": {},
   "outputs": [
    {
     "data": {
      "text/plain": [
       "<AxesSubplot:>"
      ]
     },
     "execution_count": 64,
     "metadata": {},
     "output_type": "execute_result"
    },
    {
     "data": {
      "image/png": "[encoded data removed]",
      "text/plain": [
       "<Figure size 432x288 with 1 Axes>"
      ]
     },
     "metadata": {
      "needs_background": "light"
     },
     "output_type": "display_data"
    }
   ],
   "source": [
    "# Total tax rate\n",
    "\n",
    "sb.boxplot(df['Total tax rate'])"
   ]
  },
  {
   "cell_type": "code",
   "execution_count": 179,
   "metadata": {},
   "outputs": [
    {
     "name": "stdout",
     "output_type": "stream",
     "text": [
      "219.6\n"
     ]
    }
   ],
   "source": [
    "# Possible outlier\n",
    "\n",
    "print(df['Total tax rate'].max())"
   ]
  },
  {
   "cell_type": "code",
   "execution_count": 65,
   "metadata": {},
   "outputs": [
    {
     "data": {
      "text/plain": [
       "<AxesSubplot:>"
      ]
     },
     "execution_count": 65,
     "metadata": {},
     "output_type": "execute_result"
    },
    {
     "data": {
      "image/png": "[encoded data removed]",
      "text/plain": [
       "<Figure size 432x288 with 1 Axes>"
      ]
     },
     "metadata": {
      "needs_background": "light"
     },
     "output_type": "display_data"
    }
   ],
   "source": [
    "# Unemployment rate\n",
    "\n",
    "sb.boxplot(df['Unemployment rate'])\n",
    "\n",
    "# Highest unemployment rate could go upto 34%"
   ]
  },
  {
   "cell_type": "code",
   "execution_count": 66,
   "metadata": {},
   "outputs": [
    {
     "data": {
      "text/plain": [
       "<AxesSubplot:>"
      ]
     },
     "execution_count": 66,
     "metadata": {},
     "output_type": "execute_result"
    },
    {
     "data": {
      "image/png": "[encoded data removed]",
      "text/plain": [
       "<Figure size 432x288 with 1 Axes>"
      ]
     },
     "metadata": {
      "needs_background": "light"
     },
     "output_type": "display_data"
    }
   ],
   "source": [
    "# Urban population\n",
    "\n",
    "sb.boxplot(df['Urban_population'])"
   ]
  },
  {
   "cell_type": "code",
   "execution_count": 67,
   "metadata": {},
   "outputs": [
    {
     "data": {
      "text/html": [
       "<div>\n",
       "<style scoped>\n",
       "    .dataframe tbody tr th:only-of-type {\n",
       "        vertical-align: middle;\n",
       "    }\n",
       "\n",
       "    .dataframe tbody tr th {\n",
       "        vertical-align: top;\n",
       "    }\n",
       "\n",
       "    .dataframe thead th {\n",
       "        text-align: right;\n",
       "    }\n",
       "</style>\n",
       "<table border=\"1\" class=\"dataframe\">\n",
       "  <thead>\n",
       "    <tr style=\"text-align: right;\">\n",
       "      <th></th>\n",
       "      <th>Agricultural Land( %)</th>\n",
       "      <th>Land Area(Km2)</th>\n",
       "      <th>Armed Forces size</th>\n",
       "      <th>Birth Rate</th>\n",
       "      <th>Co2-Emissions</th>\n",
       "      <th>CPI</th>\n",
       "      <th>CPI Change (%)</th>\n",
       "      <th>Fertility Rate</th>\n",
       "      <th>Forested Area (%)</th>\n",
       "      <th>Gasoline Price</th>\n",
       "      <th>GDP</th>\n",
       "      <th>Gross primary education enrollment (%)</th>\n",
       "      <th>Gross tertiary education enrollment (%)</th>\n",
       "      <th>Infant mortality</th>\n",
       "      <th>Life expectancy</th>\n",
       "      <th>Maternal mortality ratio</th>\n",
       "      <th>Minimum wage</th>\n",
       "      <th>Out of pocket health expenditure</th>\n",
       "      <th>Physicians per thousand</th>\n",
       "      <th>Population</th>\n",
       "      <th>Population: Labor force participation (%)</th>\n",
       "      <th>Tax revenue (%)</th>\n",
       "      <th>Total tax rate</th>\n",
       "      <th>Unemployment rate</th>\n",
       "      <th>Urban_population</th>\n",
       "    </tr>\n",
       "  </thead>\n",
       "  <tbody>\n",
       "    <tr>\n",
       "      <th>count</th>\n",
       "      <td>188.000000</td>\n",
       "      <td>1.940000e+02</td>\n",
       "      <td>1.710000e+02</td>\n",
       "      <td>189.000000</td>\n",
       "      <td>1.880000e+02</td>\n",
       "      <td>178.000000</td>\n",
       "      <td>179.000000</td>\n",
       "      <td>188.000000</td>\n",
       "      <td>188.000000</td>\n",
       "      <td>175.000000</td>\n",
       "      <td>1.930000e+02</td>\n",
       "      <td>188.000000</td>\n",
       "      <td>183.000000</td>\n",
       "      <td>189.000000</td>\n",
       "      <td>187.000000</td>\n",
       "      <td>181.000000</td>\n",
       "      <td>150.000000</td>\n",
       "      <td>188.000000</td>\n",
       "      <td>188.000000</td>\n",
       "      <td>1.940000e+02</td>\n",
       "      <td>176.000000</td>\n",
       "      <td>169.000000</td>\n",
       "      <td>183.000000</td>\n",
       "      <td>176.000000</td>\n",
       "      <td>1.900000e+02</td>\n",
       "    </tr>\n",
       "    <tr>\n",
       "      <th>mean</th>\n",
       "      <td>39.117553</td>\n",
       "      <td>6.896244e+05</td>\n",
       "      <td>1.592749e+05</td>\n",
       "      <td>20.214974</td>\n",
       "      <td>1.777992e+05</td>\n",
       "      <td>190.460955</td>\n",
       "      <td>6.722346</td>\n",
       "      <td>2.698138</td>\n",
       "      <td>32.015426</td>\n",
       "      <td>1.002457</td>\n",
       "      <td>4.772959e+11</td>\n",
       "      <td>102.470213</td>\n",
       "      <td>37.963388</td>\n",
       "      <td>21.332804</td>\n",
       "      <td>72.279679</td>\n",
       "      <td>160.392265</td>\n",
       "      <td>2.194133</td>\n",
       "      <td>32.637234</td>\n",
       "      <td>1.839840</td>\n",
       "      <td>3.938116e+07</td>\n",
       "      <td>62.738068</td>\n",
       "      <td>16.573964</td>\n",
       "      <td>40.822404</td>\n",
       "      <td>6.886364</td>\n",
       "      <td>2.230454e+07</td>\n",
       "    </tr>\n",
       "    <tr>\n",
       "      <th>std</th>\n",
       "      <td>21.783052</td>\n",
       "      <td>1.921609e+06</td>\n",
       "      <td>3.806288e+05</td>\n",
       "      <td>9.945774</td>\n",
       "      <td>8.387903e+05</td>\n",
       "      <td>397.947380</td>\n",
       "      <td>24.450414</td>\n",
       "      <td>1.282267</td>\n",
       "      <td>23.791331</td>\n",
       "      <td>0.368858</td>\n",
       "      <td>2.172173e+12</td>\n",
       "      <td>13.151607</td>\n",
       "      <td>29.261022</td>\n",
       "      <td>19.548058</td>\n",
       "      <td>7.483661</td>\n",
       "      <td>233.502024</td>\n",
       "      <td>2.970796</td>\n",
       "      <td>19.172697</td>\n",
       "      <td>1.684261</td>\n",
       "      <td>1.450924e+08</td>\n",
       "      <td>10.502907</td>\n",
       "      <td>6.961632</td>\n",
       "      <td>20.557662</td>\n",
       "      <td>5.079216</td>\n",
       "      <td>7.543050e+07</td>\n",
       "    </tr>\n",
       "    <tr>\n",
       "      <th>min</th>\n",
       "      <td>0.600000</td>\n",
       "      <td>0.000000e+00</td>\n",
       "      <td>0.000000e+00</td>\n",
       "      <td>5.900000</td>\n",
       "      <td>1.100000e+01</td>\n",
       "      <td>99.030000</td>\n",
       "      <td>-4.300000</td>\n",
       "      <td>0.980000</td>\n",
       "      <td>0.000000</td>\n",
       "      <td>0.000000</td>\n",
       "      <td>4.727146e+07</td>\n",
       "      <td>23.400000</td>\n",
       "      <td>0.800000</td>\n",
       "      <td>1.400000</td>\n",
       "      <td>52.800000</td>\n",
       "      <td>2.000000</td>\n",
       "      <td>0.010000</td>\n",
       "      <td>0.200000</td>\n",
       "      <td>0.010000</td>\n",
       "      <td>8.360000e+02</td>\n",
       "      <td>38.000000</td>\n",
       "      <td>0.000000</td>\n",
       "      <td>8.000000</td>\n",
       "      <td>0.090000</td>\n",
       "      <td>5.464000e+03</td>\n",
       "    </tr>\n",
       "    <tr>\n",
       "      <th>25%</th>\n",
       "      <td>21.700000</td>\n",
       "      <td>2.382825e+04</td>\n",
       "      <td>1.100000e+04</td>\n",
       "      <td>11.300000</td>\n",
       "      <td>2.304250e+03</td>\n",
       "      <td>113.885000</td>\n",
       "      <td>1.000000</td>\n",
       "      <td>1.705000</td>\n",
       "      <td>11.000000</td>\n",
       "      <td>0.755000</td>\n",
       "      <td>8.454620e+09</td>\n",
       "      <td>98.950000</td>\n",
       "      <td>12.150000</td>\n",
       "      <td>6.000000</td>\n",
       "      <td>67.000000</td>\n",
       "      <td>13.000000</td>\n",
       "      <td>0.402500</td>\n",
       "      <td>17.450000</td>\n",
       "      <td>0.332500</td>\n",
       "      <td>1.962678e+06</td>\n",
       "      <td>56.150000</td>\n",
       "      <td>11.700000</td>\n",
       "      <td>30.600000</td>\n",
       "      <td>3.395000</td>\n",
       "      <td>1.152961e+06</td>\n",
       "    </tr>\n",
       "    <tr>\n",
       "      <th>50%</th>\n",
       "      <td>39.600000</td>\n",
       "      <td>1.195110e+05</td>\n",
       "      <td>3.100000e+04</td>\n",
       "      <td>17.950000</td>\n",
       "      <td>1.230300e+04</td>\n",
       "      <td>125.340000</td>\n",
       "      <td>2.300000</td>\n",
       "      <td>2.245000</td>\n",
       "      <td>32.000000</td>\n",
       "      <td>0.980000</td>\n",
       "      <td>3.438723e+10</td>\n",
       "      <td>102.550000</td>\n",
       "      <td>31.200000</td>\n",
       "      <td>14.000000</td>\n",
       "      <td>73.200000</td>\n",
       "      <td>53.000000</td>\n",
       "      <td>1.045000</td>\n",
       "      <td>30.700000</td>\n",
       "      <td>1.460000</td>\n",
       "      <td>8.826588e+06</td>\n",
       "      <td>62.450000</td>\n",
       "      <td>16.300000</td>\n",
       "      <td>37.200000</td>\n",
       "      <td>5.360000</td>\n",
       "      <td>4.678104e+06</td>\n",
       "    </tr>\n",
       "    <tr>\n",
       "      <th>75%</th>\n",
       "      <td>55.375000</td>\n",
       "      <td>5.242560e+05</td>\n",
       "      <td>1.420000e+05</td>\n",
       "      <td>28.750000</td>\n",
       "      <td>6.388425e+04</td>\n",
       "      <td>157.265000</td>\n",
       "      <td>4.250000</td>\n",
       "      <td>3.597500</td>\n",
       "      <td>48.175000</td>\n",
       "      <td>1.240000</td>\n",
       "      <td>2.340940e+11</td>\n",
       "      <td>108.025000</td>\n",
       "      <td>63.150000</td>\n",
       "      <td>32.700000</td>\n",
       "      <td>77.500000</td>\n",
       "      <td>186.000000</td>\n",
       "      <td>2.447500</td>\n",
       "      <td>43.975000</td>\n",
       "      <td>2.935000</td>\n",
       "      <td>2.858549e+07</td>\n",
       "      <td>69.500000</td>\n",
       "      <td>21.100000</td>\n",
       "      <td>48.000000</td>\n",
       "      <td>9.490000</td>\n",
       "      <td>1.490324e+07</td>\n",
       "    </tr>\n",
       "    <tr>\n",
       "      <th>max</th>\n",
       "      <td>82.600000</td>\n",
       "      <td>1.709824e+07</td>\n",
       "      <td>3.031000e+06</td>\n",
       "      <td>46.080000</td>\n",
       "      <td>9.893038e+06</td>\n",
       "      <td>4583.710000</td>\n",
       "      <td>254.900000</td>\n",
       "      <td>6.910000</td>\n",
       "      <td>98.300000</td>\n",
       "      <td>2.000000</td>\n",
       "      <td>2.142770e+13</td>\n",
       "      <td>142.500000</td>\n",
       "      <td>136.600000</td>\n",
       "      <td>84.500000</td>\n",
       "      <td>85.400000</td>\n",
       "      <td>1150.000000</td>\n",
       "      <td>13.590000</td>\n",
       "      <td>81.600000</td>\n",
       "      <td>8.420000</td>\n",
       "      <td>1.397715e+09</td>\n",
       "      <td>86.800000</td>\n",
       "      <td>37.200000</td>\n",
       "      <td>219.600000</td>\n",
       "      <td>28.180000</td>\n",
       "      <td>8.429340e+08</td>\n",
       "    </tr>\n",
       "  </tbody>\n",
       "</table>\n",
       "</div>"
      ],
      "text/plain": [
       "       Agricultural Land( %)  Land Area(Km2)  Armed Forces size  Birth Rate  \\\n",
       "count             188.000000    1.940000e+02       1.710000e+02  189.000000   \n",
       "mean               39.117553    6.896244e+05       1.592749e+05   20.214974   \n",
       "std                21.783052    1.921609e+06       3.806288e+05    9.945774   \n",
       "min                 0.600000    0.000000e+00       0.000000e+00    5.900000   \n",
       "25%                21.700000    2.382825e+04       1.100000e+04   11.300000   \n",
       "50%                39.600000    1.195110e+05       3.100000e+04   17.950000   \n",
       "75%                55.375000    5.242560e+05       1.420000e+05   28.750000   \n",
       "max                82.600000    1.709824e+07       3.031000e+06   46.080000   \n",
       "\n",
       "       Co2-Emissions          CPI  CPI Change (%)  Fertility Rate  \\\n",
       "count   1.880000e+02   178.000000      179.000000      188.000000   \n",
       "mean    1.777992e+05   190.460955        6.722346        2.698138   \n",
       "std     8.387903e+05   397.947380       24.450414        1.282267   \n",
       "min     1.100000e+01    99.030000       -4.300000        0.980000   \n",
       "25%     2.304250e+03   113.885000        1.000000        1.705000   \n",
       "50%     1.230300e+04   125.340000        2.300000        2.245000   \n",
       "75%     6.388425e+04   157.265000        4.250000        3.597500   \n",
       "max     9.893038e+06  4583.710000      254.900000        6.910000   \n",
       "\n",
       "       Forested Area (%)  Gasoline Price           GDP  \\\n",
       "count         188.000000      175.000000  1.930000e+02   \n",
       "mean           32.015426        1.002457  4.772959e+11   \n",
       "std            23.791331        0.368858  2.172173e+12   \n",
       "min             0.000000        0.000000  4.727146e+07   \n",
       "25%            11.000000        0.755000  8.454620e+09   \n",
       "50%            32.000000        0.980000  3.438723e+10   \n",
       "75%            48.175000        1.240000  2.340940e+11   \n",
       "max            98.300000        2.000000  2.142770e+13   \n",
       "\n",
       "       Gross primary education enrollment (%)  \\\n",
       "count                              188.000000   \n",
       "mean                               102.470213   \n",
       "std                                 13.151607   \n",
       "min                                 23.400000   \n",
       "25%                                 98.950000   \n",
       "50%                                102.550000   \n",
       "75%                                108.025000   \n",
       "max                                142.500000   \n",
       "\n",
       "       Gross tertiary education enrollment (%)  Infant mortality  \\\n",
       "count                               183.000000        189.000000   \n",
       "mean                                 37.963388         21.332804   \n",
       "std                                  29.261022         19.548058   \n",
       "min                                   0.800000          1.400000   \n",
       "25%                                  12.150000          6.000000   \n",
       "50%                                  31.200000         14.000000   \n",
       "75%                                  63.150000         32.700000   \n",
       "max                                 136.600000         84.500000   \n",
       "\n",
       "       Life expectancy  Maternal mortality ratio  Minimum wage  \\\n",
       "count       187.000000                181.000000    150.000000   \n",
       "mean         72.279679                160.392265      2.194133   \n",
       "std           7.483661                233.502024      2.970796   \n",
       "min          52.800000                  2.000000      0.010000   \n",
       "25%          67.000000                 13.000000      0.402500   \n",
       "50%          73.200000                 53.000000      1.045000   \n",
       "75%          77.500000                186.000000      2.447500   \n",
       "max          85.400000               1150.000000     13.590000   \n",
       "\n",
       "       Out of pocket health expenditure  Physicians per thousand  \\\n",
       "count                        188.000000               188.000000   \n",
       "mean                          32.637234                 1.839840   \n",
       "std                           19.172697                 1.684261   \n",
       "min                            0.200000                 0.010000   \n",
       "25%                           17.450000                 0.332500   \n",
       "50%                           30.700000                 1.460000   \n",
       "75%                           43.975000                 2.935000   \n",
       "max                           81.600000                 8.420000   \n",
       "\n",
       "         Population  Population: Labor force participation (%)  \\\n",
       "count  1.940000e+02                                 176.000000   \n",
       "mean   3.938116e+07                                  62.738068   \n",
       "std    1.450924e+08                                  10.502907   \n",
       "min    8.360000e+02                                  38.000000   \n",
       "25%    1.962678e+06                                  56.150000   \n",
       "50%    8.826588e+06                                  62.450000   \n",
       "75%    2.858549e+07                                  69.500000   \n",
       "max    1.397715e+09                                  86.800000   \n",
       "\n",
       "       Tax revenue (%)  Total tax rate  Unemployment rate  Urban_population  \n",
       "count       169.000000      183.000000         176.000000      1.900000e+02  \n",
       "mean         16.573964       40.822404           6.886364      2.230454e+07  \n",
       "std           6.961632       20.557662           5.079216      7.543050e+07  \n",
       "min           0.000000        8.000000           0.090000      5.464000e+03  \n",
       "25%          11.700000       30.600000           3.395000      1.152961e+06  \n",
       "50%          16.300000       37.200000           5.360000      4.678104e+06  \n",
       "75%          21.100000       48.000000           9.490000      1.490324e+07  \n",
       "max          37.200000      219.600000          28.180000      8.429340e+08  "
      ]
     },
     "execution_count": 67,
     "metadata": {},
     "output_type": "execute_result"
    }
   ],
   "source": [
    "df.describe()"
   ]
  },
  {
   "cell_type": "code",
   "execution_count": 180,
   "metadata": {},
   "outputs": [],
   "source": [
    "# Experimenting NaN=0\n",
    "\n",
    "df_new=df.fillna(0)"
   ]
  },
  {
   "cell_type": "code",
   "execution_count": 181,
   "metadata": {},
   "outputs": [
    {
     "data": {
      "text/plain": [
       "Country                                      0\n",
       "Density\\n(P/Km2)                             0\n",
       "Agricultural Land( %)                        0\n",
       "Land Area(Km2)                               0\n",
       "Armed Forces size                            0\n",
       "Birth Rate                                   0\n",
       "Co2-Emissions                                0\n",
       "CPI                                          0\n",
       "CPI Change (%)                               0\n",
       "Fertility Rate                               0\n",
       "Forested Area (%)                            0\n",
       "Gasoline Price                               0\n",
       "GDP                                          0\n",
       "Gross primary education enrollment (%)       0\n",
       "Gross tertiary education enrollment (%)      0\n",
       "Infant mortality                             0\n",
       "Life expectancy                              0\n",
       "Maternal mortality ratio                     0\n",
       "Minimum wage                                 0\n",
       "Out of pocket health expenditure             0\n",
       "Physicians per thousand                      0\n",
       "Population                                   0\n",
       "Population: Labor force participation (%)    0\n",
       "Tax revenue (%)                              0\n",
       "Total tax rate                               0\n",
       "Unemployment rate                            0\n",
       "Urban_population                             0\n",
       "dtype: int64"
      ]
     },
     "execution_count": 181,
     "metadata": {},
     "output_type": "execute_result"
    }
   ],
   "source": [
    "# Checking the null values after updating\n",
    "df_new.isnull().sum()"
   ]
  },
  {
   "cell_type": "code",
   "execution_count": 70,
   "metadata": {},
   "outputs": [
    {
     "data": {
      "text/html": [
       "<div>\n",
       "<style scoped>\n",
       "    .dataframe tbody tr th:only-of-type {\n",
       "        vertical-align: middle;\n",
       "    }\n",
       "\n",
       "    .dataframe tbody tr th {\n",
       "        vertical-align: top;\n",
       "    }\n",
       "\n",
       "    .dataframe thead th {\n",
       "        text-align: right;\n",
       "    }\n",
       "</style>\n",
       "<table border=\"1\" class=\"dataframe\">\n",
       "  <thead>\n",
       "    <tr style=\"text-align: right;\">\n",
       "      <th></th>\n",
       "      <th>Agricultural Land( %)</th>\n",
       "      <th>Land Area(Km2)</th>\n",
       "      <th>Armed Forces size</th>\n",
       "      <th>Birth Rate</th>\n",
       "      <th>Co2-Emissions</th>\n",
       "      <th>CPI</th>\n",
       "      <th>CPI Change (%)</th>\n",
       "      <th>Fertility Rate</th>\n",
       "      <th>Forested Area (%)</th>\n",
       "      <th>Gasoline Price</th>\n",
       "      <th>GDP</th>\n",
       "      <th>Gross primary education enrollment (%)</th>\n",
       "      <th>Gross tertiary education enrollment (%)</th>\n",
       "      <th>Infant mortality</th>\n",
       "      <th>Life expectancy</th>\n",
       "      <th>Maternal mortality ratio</th>\n",
       "      <th>Minimum wage</th>\n",
       "      <th>Out of pocket health expenditure</th>\n",
       "      <th>Physicians per thousand</th>\n",
       "      <th>Population</th>\n",
       "      <th>Population: Labor force participation (%)</th>\n",
       "      <th>Tax revenue (%)</th>\n",
       "      <th>Total tax rate</th>\n",
       "      <th>Unemployment rate</th>\n",
       "      <th>Urban_population</th>\n",
       "    </tr>\n",
       "  </thead>\n",
       "  <tbody>\n",
       "    <tr>\n",
       "      <th>count</th>\n",
       "      <td>195.000000</td>\n",
       "      <td>1.950000e+02</td>\n",
       "      <td>1.950000e+02</td>\n",
       "      <td>195.000000</td>\n",
       "      <td>1.950000e+02</td>\n",
       "      <td>195.000000</td>\n",
       "      <td>195.000000</td>\n",
       "      <td>195.000000</td>\n",
       "      <td>195.000000</td>\n",
       "      <td>195.000000</td>\n",
       "      <td>1.950000e+02</td>\n",
       "      <td>195.000000</td>\n",
       "      <td>195.000000</td>\n",
       "      <td>195.000000</td>\n",
       "      <td>195.000000</td>\n",
       "      <td>195.000000</td>\n",
       "      <td>195.000000</td>\n",
       "      <td>195.000000</td>\n",
       "      <td>195.000000</td>\n",
       "      <td>1.950000e+02</td>\n",
       "      <td>195.000000</td>\n",
       "      <td>195.000000</td>\n",
       "      <td>195.000000</td>\n",
       "      <td>195.000000</td>\n",
       "      <td>1.950000e+02</td>\n",
       "    </tr>\n",
       "    <tr>\n",
       "      <th>mean</th>\n",
       "      <td>37.713333</td>\n",
       "      <td>6.860878e+05</td>\n",
       "      <td>1.396718e+05</td>\n",
       "      <td>19.592974</td>\n",
       "      <td>1.714167e+05</td>\n",
       "      <td>173.856667</td>\n",
       "      <td>6.170769</td>\n",
       "      <td>2.601282</td>\n",
       "      <td>30.866154</td>\n",
       "      <td>0.899641</td>\n",
       "      <td>4.724006e+11</td>\n",
       "      <td>98.791795</td>\n",
       "      <td>35.627179</td>\n",
       "      <td>20.676410</td>\n",
       "      <td>69.314359</td>\n",
       "      <td>148.876923</td>\n",
       "      <td>1.687795</td>\n",
       "      <td>31.465641</td>\n",
       "      <td>1.773795</td>\n",
       "      <td>3.917921e+07</td>\n",
       "      <td>56.625128</td>\n",
       "      <td>14.364103</td>\n",
       "      <td>38.310256</td>\n",
       "      <td>6.215385</td>\n",
       "      <td>2.173263e+07</td>\n",
       "    </tr>\n",
       "    <tr>\n",
       "      <th>std</th>\n",
       "      <td>22.596702</td>\n",
       "      <td>1.917286e+06</td>\n",
       "      <td>3.601490e+05</td>\n",
       "      <td>10.397534</td>\n",
       "      <td>8.241858e+05</td>\n",
       "      <td>383.909718</td>\n",
       "      <td>23.493382</td>\n",
       "      <td>1.355777</td>\n",
       "      <td>24.109338</td>\n",
       "      <td>0.463686</td>\n",
       "      <td>2.161485e+12</td>\n",
       "      <td>23.065005</td>\n",
       "      <td>29.780995</td>\n",
       "      <td>19.594644</td>\n",
       "      <td>16.133643</td>\n",
       "      <td>228.717593</td>\n",
       "      <td>2.763593</td>\n",
       "      <td>19.783417</td>\n",
       "      <td>1.688826</td>\n",
       "      <td>1.447454e+08</td>\n",
       "      <td>21.152722</td>\n",
       "      <td>8.595080</td>\n",
       "      <td>22.208406</td>\n",
       "      <td>5.240580</td>\n",
       "      <td>7.453597e+07</td>\n",
       "    </tr>\n",
       "    <tr>\n",
       "      <th>min</th>\n",
       "      <td>0.000000</td>\n",
       "      <td>0.000000e+00</td>\n",
       "      <td>0.000000e+00</td>\n",
       "      <td>0.000000</td>\n",
       "      <td>0.000000e+00</td>\n",
       "      <td>0.000000</td>\n",
       "      <td>-4.300000</td>\n",
       "      <td>0.000000</td>\n",
       "      <td>0.000000</td>\n",
       "      <td>0.000000</td>\n",
       "      <td>0.000000e+00</td>\n",
       "      <td>0.000000</td>\n",
       "      <td>0.000000</td>\n",
       "      <td>0.000000</td>\n",
       "      <td>0.000000</td>\n",
       "      <td>0.000000</td>\n",
       "      <td>0.000000</td>\n",
       "      <td>0.000000</td>\n",
       "      <td>0.000000</td>\n",
       "      <td>0.000000e+00</td>\n",
       "      <td>0.000000</td>\n",
       "      <td>0.000000</td>\n",
       "      <td>0.000000</td>\n",
       "      <td>0.000000</td>\n",
       "      <td>0.000000e+00</td>\n",
       "    </tr>\n",
       "    <tr>\n",
       "      <th>25%</th>\n",
       "      <td>19.800000</td>\n",
       "      <td>2.308300e+04</td>\n",
       "      <td>4.500000e+03</td>\n",
       "      <td>10.675000</td>\n",
       "      <td>1.901500e+03</td>\n",
       "      <td>111.005000</td>\n",
       "      <td>0.650000</td>\n",
       "      <td>1.625000</td>\n",
       "      <td>9.750000</td>\n",
       "      <td>0.690000</td>\n",
       "      <td>7.891666e+09</td>\n",
       "      <td>98.150000</td>\n",
       "      <td>10.050000</td>\n",
       "      <td>5.000000</td>\n",
       "      <td>66.150000</td>\n",
       "      <td>9.000000</td>\n",
       "      <td>0.070000</td>\n",
       "      <td>15.700000</td>\n",
       "      <td>0.245000</td>\n",
       "      <td>1.916856e+06</td>\n",
       "      <td>52.900000</td>\n",
       "      <td>9.500000</td>\n",
       "      <td>28.500000</td>\n",
       "      <td>2.555000</td>\n",
       "      <td>9.504180e+05</td>\n",
       "    </tr>\n",
       "    <tr>\n",
       "      <th>50%</th>\n",
       "      <td>39.200000</td>\n",
       "      <td>1.184840e+05</td>\n",
       "      <td>2.300000e+04</td>\n",
       "      <td>17.800000</td>\n",
       "      <td>1.071500e+04</td>\n",
       "      <td>121.640000</td>\n",
       "      <td>2.100000</td>\n",
       "      <td>2.200000</td>\n",
       "      <td>31.300000</td>\n",
       "      <td>0.940000</td>\n",
       "      <td>3.411720e+10</td>\n",
       "      <td>102.000000</td>\n",
       "      <td>27.000000</td>\n",
       "      <td>13.700000</td>\n",
       "      <td>72.800000</td>\n",
       "      <td>43.000000</td>\n",
       "      <td>0.570000</td>\n",
       "      <td>28.400000</td>\n",
       "      <td>1.300000</td>\n",
       "      <td>8.776109e+06</td>\n",
       "      <td>61.600000</td>\n",
       "      <td>14.700000</td>\n",
       "      <td>36.600000</td>\n",
       "      <td>4.670000</td>\n",
       "      <td>4.359150e+06</td>\n",
       "    </tr>\n",
       "    <tr>\n",
       "      <th>75%</th>\n",
       "      <td>54.850000</td>\n",
       "      <td>5.205440e+05</td>\n",
       "      <td>1.230000e+05</td>\n",
       "      <td>28.445000</td>\n",
       "      <td>6.194100e+04</td>\n",
       "      <td>155.605000</td>\n",
       "      <td>3.750000</td>\n",
       "      <td>3.565000</td>\n",
       "      <td>47.450000</td>\n",
       "      <td>1.185000</td>\n",
       "      <td>2.304710e+11</td>\n",
       "      <td>107.550000</td>\n",
       "      <td>61.100000</td>\n",
       "      <td>31.550000</td>\n",
       "      <td>77.250000</td>\n",
       "      <td>175.000000</td>\n",
       "      <td>1.625000</td>\n",
       "      <td>43.750000</td>\n",
       "      <td>2.875000</td>\n",
       "      <td>2.856227e+07</td>\n",
       "      <td>68.300000</td>\n",
       "      <td>20.300000</td>\n",
       "      <td>47.300000</td>\n",
       "      <td>8.840000</td>\n",
       "      <td>1.460139e+07</td>\n",
       "    </tr>\n",
       "    <tr>\n",
       "      <th>max</th>\n",
       "      <td>82.600000</td>\n",
       "      <td>1.709824e+07</td>\n",
       "      <td>3.031000e+06</td>\n",
       "      <td>46.080000</td>\n",
       "      <td>9.893038e+06</td>\n",
       "      <td>4583.710000</td>\n",
       "      <td>254.900000</td>\n",
       "      <td>6.910000</td>\n",
       "      <td>98.300000</td>\n",
       "      <td>2.000000</td>\n",
       "      <td>2.142770e+13</td>\n",
       "      <td>142.500000</td>\n",
       "      <td>136.600000</td>\n",
       "      <td>84.500000</td>\n",
       "      <td>85.400000</td>\n",
       "      <td>1150.000000</td>\n",
       "      <td>13.590000</td>\n",
       "      <td>81.600000</td>\n",
       "      <td>8.420000</td>\n",
       "      <td>1.397715e+09</td>\n",
       "      <td>86.800000</td>\n",
       "      <td>37.200000</td>\n",
       "      <td>219.600000</td>\n",
       "      <td>28.180000</td>\n",
       "      <td>8.429340e+08</td>\n",
       "    </tr>\n",
       "  </tbody>\n",
       "</table>\n",
       "</div>"
      ],
      "text/plain": [
       "       Agricultural Land( %)  Land Area(Km2)  Armed Forces size  Birth Rate  \\\n",
       "count             195.000000    1.950000e+02       1.950000e+02  195.000000   \n",
       "mean               37.713333    6.860878e+05       1.396718e+05   19.592974   \n",
       "std                22.596702    1.917286e+06       3.601490e+05   10.397534   \n",
       "min                 0.000000    0.000000e+00       0.000000e+00    0.000000   \n",
       "25%                19.800000    2.308300e+04       4.500000e+03   10.675000   \n",
       "50%                39.200000    1.184840e+05       2.300000e+04   17.800000   \n",
       "75%                54.850000    5.205440e+05       1.230000e+05   28.445000   \n",
       "max                82.600000    1.709824e+07       3.031000e+06   46.080000   \n",
       "\n",
       "       Co2-Emissions          CPI  CPI Change (%)  Fertility Rate  \\\n",
       "count   1.950000e+02   195.000000      195.000000      195.000000   \n",
       "mean    1.714167e+05   173.856667        6.170769        2.601282   \n",
       "std     8.241858e+05   383.909718       23.493382        1.355777   \n",
       "min     0.000000e+00     0.000000       -4.300000        0.000000   \n",
       "25%     1.901500e+03   111.005000        0.650000        1.625000   \n",
       "50%     1.071500e+04   121.640000        2.100000        2.200000   \n",
       "75%     6.194100e+04   155.605000        3.750000        3.565000   \n",
       "max     9.893038e+06  4583.710000      254.900000        6.910000   \n",
       "\n",
       "       Forested Area (%)  Gasoline Price           GDP  \\\n",
       "count         195.000000      195.000000  1.950000e+02   \n",
       "mean           30.866154        0.899641  4.724006e+11   \n",
       "std            24.109338        0.463686  2.161485e+12   \n",
       "min             0.000000        0.000000  0.000000e+00   \n",
       "25%             9.750000        0.690000  7.891666e+09   \n",
       "50%            31.300000        0.940000  3.411720e+10   \n",
       "75%            47.450000        1.185000  2.304710e+11   \n",
       "max            98.300000        2.000000  2.142770e+13   \n",
       "\n",
       "       Gross primary education enrollment (%)  \\\n",
       "count                              195.000000   \n",
       "mean                                98.791795   \n",
       "std                                 23.065005   \n",
       "min                                  0.000000   \n",
       "25%                                 98.150000   \n",
       "50%                                102.000000   \n",
       "75%                                107.550000   \n",
       "max                                142.500000   \n",
       "\n",
       "       Gross tertiary education enrollment (%)  Infant mortality  \\\n",
       "count                               195.000000        195.000000   \n",
       "mean                                 35.627179         20.676410   \n",
       "std                                  29.780995         19.594644   \n",
       "min                                   0.000000          0.000000   \n",
       "25%                                  10.050000          5.000000   \n",
       "50%                                  27.000000         13.700000   \n",
       "75%                                  61.100000         31.550000   \n",
       "max                                 136.600000         84.500000   \n",
       "\n",
       "       Life expectancy  Maternal mortality ratio  Minimum wage  \\\n",
       "count       195.000000                195.000000    195.000000   \n",
       "mean         69.314359                148.876923      1.687795   \n",
       "std          16.133643                228.717593      2.763593   \n",
       "min           0.000000                  0.000000      0.000000   \n",
       "25%          66.150000                  9.000000      0.070000   \n",
       "50%          72.800000                 43.000000      0.570000   \n",
       "75%          77.250000                175.000000      1.625000   \n",
       "max          85.400000               1150.000000     13.590000   \n",
       "\n",
       "       Out of pocket health expenditure  Physicians per thousand  \\\n",
       "count                        195.000000               195.000000   \n",
       "mean                          31.465641                 1.773795   \n",
       "std                           19.783417                 1.688826   \n",
       "min                            0.000000                 0.000000   \n",
       "25%                           15.700000                 0.245000   \n",
       "50%                           28.400000                 1.300000   \n",
       "75%                           43.750000                 2.875000   \n",
       "max                           81.600000                 8.420000   \n",
       "\n",
       "         Population  Population: Labor force participation (%)  \\\n",
       "count  1.950000e+02                                 195.000000   \n",
       "mean   3.917921e+07                                  56.625128   \n",
       "std    1.447454e+08                                  21.152722   \n",
       "min    0.000000e+00                                   0.000000   \n",
       "25%    1.916856e+06                                  52.900000   \n",
       "50%    8.776109e+06                                  61.600000   \n",
       "75%    2.856227e+07                                  68.300000   \n",
       "max    1.397715e+09                                  86.800000   \n",
       "\n",
       "       Tax revenue (%)  Total tax rate  Unemployment rate  Urban_population  \n",
       "count       195.000000      195.000000         195.000000      1.950000e+02  \n",
       "mean         14.364103       38.310256           6.215385      2.173263e+07  \n",
       "std           8.595080       22.208406           5.240580      7.453597e+07  \n",
       "min           0.000000        0.000000           0.000000      0.000000e+00  \n",
       "25%           9.500000       28.500000           2.555000      9.504180e+05  \n",
       "50%          14.700000       36.600000           4.670000      4.359150e+06  \n",
       "75%          20.300000       47.300000           8.840000      1.460139e+07  \n",
       "max          37.200000      219.600000          28.180000      8.429340e+08  "
      ]
     },
     "execution_count": 70,
     "metadata": {},
     "output_type": "execute_result"
    }
   ],
   "source": [
    "df_new.describe()\n",
    "\n",
    "# After imputing 0, the minimum value becoomes 0 in all the columns, which is not desirable and accurate."
   ]
  },
  {
   "cell_type": "code",
   "execution_count": 72,
   "metadata": {},
   "outputs": [
    {
     "data": {
      "text/plain": [
       "Country                                       0\n",
       "Density\\n(P/Km2)                              0\n",
       "Agricultural Land( %)                         7\n",
       "Land Area(Km2)                                1\n",
       "Armed Forces size                            24\n",
       "Birth Rate                                    6\n",
       "Co2-Emissions                                 7\n",
       "CPI                                          17\n",
       "CPI Change (%)                               16\n",
       "Fertility Rate                                7\n",
       "Forested Area (%)                             7\n",
       "Gasoline Price                               20\n",
       "GDP                                           2\n",
       "Gross primary education enrollment (%)        7\n",
       "Gross tertiary education enrollment (%)      12\n",
       "Infant mortality                              6\n",
       "Life expectancy                               8\n",
       "Maternal mortality ratio                     14\n",
       "Minimum wage                                 45\n",
       "Out of pocket health expenditure              7\n",
       "Physicians per thousand                       7\n",
       "Population                                    1\n",
       "Population: Labor force participation (%)    19\n",
       "Tax revenue (%)                              26\n",
       "Total tax rate                               12\n",
       "Unemployment rate                            19\n",
       "Urban_population                              5\n",
       "dtype: int64"
      ]
     },
     "execution_count": 72,
     "metadata": {},
     "output_type": "execute_result"
    }
   ],
   "source": [
    "df.isnull().sum()"
   ]
  },
  {
   "cell_type": "code",
   "execution_count": 182,
   "metadata": {},
   "outputs": [],
   "source": [
    "# Calculating mean of only numeric columns\n",
    "\n",
    "numeric_cols = df.select_dtypes(include=['float64']).columns\n",
    "column_means = df[numeric_cols].mean()"
   ]
  },
  {
   "cell_type": "code",
   "execution_count": 183,
   "metadata": {},
   "outputs": [],
   "source": [
    "# Impute NaN values with the mean for numeric columns\n",
    "df[numeric_cols] = df[numeric_cols].fillna(column_means)"
   ]
  },
  {
   "cell_type": "code",
   "execution_count": 184,
   "metadata": {},
   "outputs": [
    {
     "data": {
      "text/plain": [
       "Country                                      0\n",
       "Density\\n(P/Km2)                             0\n",
       "Agricultural Land( %)                        0\n",
       "Land Area(Km2)                               0\n",
       "Armed Forces size                            0\n",
       "Birth Rate                                   0\n",
       "Co2-Emissions                                0\n",
       "CPI                                          0\n",
       "CPI Change (%)                               0\n",
       "Fertility Rate                               0\n",
       "Forested Area (%)                            0\n",
       "Gasoline Price                               0\n",
       "GDP                                          0\n",
       "Gross primary education enrollment (%)       0\n",
       "Gross tertiary education enrollment (%)      0\n",
       "Infant mortality                             0\n",
       "Life expectancy                              0\n",
       "Maternal mortality ratio                     0\n",
       "Minimum wage                                 0\n",
       "Out of pocket health expenditure             0\n",
       "Physicians per thousand                      0\n",
       "Population                                   0\n",
       "Population: Labor force participation (%)    0\n",
       "Tax revenue (%)                              0\n",
       "Total tax rate                               0\n",
       "Unemployment rate                            0\n",
       "Urban_population                             0\n",
       "dtype: int64"
      ]
     },
     "execution_count": 184,
     "metadata": {},
     "output_type": "execute_result"
    }
   ],
   "source": [
    "df.isnull().sum()"
   ]
  },
  {
   "cell_type": "code",
   "execution_count": 185,
   "metadata": {},
   "outputs": [
    {
     "data": {
      "text/html": [
       "<div>\n",
       "<style scoped>\n",
       "    .dataframe tbody tr th:only-of-type {\n",
       "        vertical-align: middle;\n",
       "    }\n",
       "\n",
       "    .dataframe tbody tr th {\n",
       "        vertical-align: top;\n",
       "    }\n",
       "\n",
       "    .dataframe thead th {\n",
       "        text-align: right;\n",
       "    }\n",
       "</style>\n",
       "<table border=\"1\" class=\"dataframe\">\n",
       "  <thead>\n",
       "    <tr style=\"text-align: right;\">\n",
       "      <th></th>\n",
       "      <th>Density\\n(P/Km2)</th>\n",
       "      <th>Agricultural Land( %)</th>\n",
       "      <th>Land Area(Km2)</th>\n",
       "      <th>Armed Forces size</th>\n",
       "      <th>Birth Rate</th>\n",
       "      <th>Co2-Emissions</th>\n",
       "      <th>CPI</th>\n",
       "      <th>CPI Change (%)</th>\n",
       "      <th>Fertility Rate</th>\n",
       "      <th>Forested Area (%)</th>\n",
       "      <th>Gasoline Price</th>\n",
       "      <th>GDP</th>\n",
       "      <th>Gross primary education enrollment (%)</th>\n",
       "      <th>Gross tertiary education enrollment (%)</th>\n",
       "      <th>Infant mortality</th>\n",
       "      <th>Life expectancy</th>\n",
       "      <th>Maternal mortality ratio</th>\n",
       "      <th>Minimum wage</th>\n",
       "      <th>Out of pocket health expenditure</th>\n",
       "      <th>Physicians per thousand</th>\n",
       "      <th>Population</th>\n",
       "      <th>Population: Labor force participation (%)</th>\n",
       "      <th>Tax revenue (%)</th>\n",
       "      <th>Total tax rate</th>\n",
       "      <th>Unemployment rate</th>\n",
       "      <th>Urban_population</th>\n",
       "    </tr>\n",
       "  </thead>\n",
       "  <tbody>\n",
       "    <tr>\n",
       "      <th>count</th>\n",
       "      <td>195.000000</td>\n",
       "      <td>195.000000</td>\n",
       "      <td>1.950000e+02</td>\n",
       "      <td>1.950000e+02</td>\n",
       "      <td>195.000000</td>\n",
       "      <td>1.950000e+02</td>\n",
       "      <td>195.000000</td>\n",
       "      <td>195.000000</td>\n",
       "      <td>195.000000</td>\n",
       "      <td>195.000000</td>\n",
       "      <td>195.000000</td>\n",
       "      <td>1.950000e+02</td>\n",
       "      <td>195.000000</td>\n",
       "      <td>195.000000</td>\n",
       "      <td>195.000000</td>\n",
       "      <td>195.000000</td>\n",
       "      <td>195.000000</td>\n",
       "      <td>195.000000</td>\n",
       "      <td>195.000000</td>\n",
       "      <td>195.000000</td>\n",
       "      <td>1.950000e+02</td>\n",
       "      <td>195.000000</td>\n",
       "      <td>195.000000</td>\n",
       "      <td>195.000000</td>\n",
       "      <td>195.000000</td>\n",
       "      <td>1.950000e+02</td>\n",
       "    </tr>\n",
       "    <tr>\n",
       "      <th>mean</th>\n",
       "      <td>356.764103</td>\n",
       "      <td>39.117553</td>\n",
       "      <td>6.896244e+05</td>\n",
       "      <td>1.592749e+05</td>\n",
       "      <td>20.214974</td>\n",
       "      <td>1.777992e+05</td>\n",
       "      <td>190.460955</td>\n",
       "      <td>6.722346</td>\n",
       "      <td>2.698138</td>\n",
       "      <td>32.015426</td>\n",
       "      <td>1.002457</td>\n",
       "      <td>4.772959e+11</td>\n",
       "      <td>102.470213</td>\n",
       "      <td>37.963388</td>\n",
       "      <td>21.332804</td>\n",
       "      <td>72.279679</td>\n",
       "      <td>160.392265</td>\n",
       "      <td>2.194133</td>\n",
       "      <td>32.637234</td>\n",
       "      <td>1.839840</td>\n",
       "      <td>3.938116e+07</td>\n",
       "      <td>62.738068</td>\n",
       "      <td>16.573964</td>\n",
       "      <td>40.822404</td>\n",
       "      <td>6.886364</td>\n",
       "      <td>2.230454e+07</td>\n",
       "    </tr>\n",
       "    <tr>\n",
       "      <th>std</th>\n",
       "      <td>1982.888967</td>\n",
       "      <td>21.386448</td>\n",
       "      <td>1.916650e+06</td>\n",
       "      <td>3.563077e+05</td>\n",
       "      <td>9.790765</td>\n",
       "      <td>8.235184e+05</td>\n",
       "      <td>380.111858</td>\n",
       "      <td>23.420457</td>\n",
       "      <td>1.258921</td>\n",
       "      <td>23.358162</td>\n",
       "      <td>0.349328</td>\n",
       "      <td>2.160948e+12</td>\n",
       "      <td>12.912156</td>\n",
       "      <td>28.341597</td>\n",
       "      <td>19.243394</td>\n",
       "      <td>7.327734</td>\n",
       "      <td>224.918945</td>\n",
       "      <td>2.603545</td>\n",
       "      <td>18.823620</td>\n",
       "      <td>1.653596</td>\n",
       "      <td>1.447180e+08</td>\n",
       "      <td>9.975339</td>\n",
       "      <td>6.478356</td>\n",
       "      <td>19.911710</td>\n",
       "      <td>4.824084</td>\n",
       "      <td>7.445211e+07</td>\n",
       "    </tr>\n",
       "    <tr>\n",
       "      <th>min</th>\n",
       "      <td>2.000000</td>\n",
       "      <td>0.600000</td>\n",
       "      <td>0.000000e+00</td>\n",
       "      <td>0.000000e+00</td>\n",
       "      <td>5.900000</td>\n",
       "      <td>1.100000e+01</td>\n",
       "      <td>99.030000</td>\n",
       "      <td>-4.300000</td>\n",
       "      <td>0.980000</td>\n",
       "      <td>0.000000</td>\n",
       "      <td>0.000000</td>\n",
       "      <td>4.727146e+07</td>\n",
       "      <td>23.400000</td>\n",
       "      <td>0.800000</td>\n",
       "      <td>1.400000</td>\n",
       "      <td>52.800000</td>\n",
       "      <td>2.000000</td>\n",
       "      <td>0.010000</td>\n",
       "      <td>0.200000</td>\n",
       "      <td>0.010000</td>\n",
       "      <td>8.360000e+02</td>\n",
       "      <td>38.000000</td>\n",
       "      <td>0.000000</td>\n",
       "      <td>8.000000</td>\n",
       "      <td>0.090000</td>\n",
       "      <td>5.464000e+03</td>\n",
       "    </tr>\n",
       "    <tr>\n",
       "      <th>25%</th>\n",
       "      <td>35.500000</td>\n",
       "      <td>22.650000</td>\n",
       "      <td>2.445650e+04</td>\n",
       "      <td>1.250000e+04</td>\n",
       "      <td>11.450000</td>\n",
       "      <td>2.625500e+03</td>\n",
       "      <td>114.470000</td>\n",
       "      <td>1.050000</td>\n",
       "      <td>1.710000</td>\n",
       "      <td>11.450000</td>\n",
       "      <td>0.790000</td>\n",
       "      <td>8.476801e+09</td>\n",
       "      <td>99.350000</td>\n",
       "      <td>12.650000</td>\n",
       "      <td>6.100000</td>\n",
       "      <td>67.450000</td>\n",
       "      <td>16.500000</td>\n",
       "      <td>0.530000</td>\n",
       "      <td>17.700000</td>\n",
       "      <td>0.360000</td>\n",
       "      <td>2.004434e+06</td>\n",
       "      <td>57.250000</td>\n",
       "      <td>12.550000</td>\n",
       "      <td>30.900000</td>\n",
       "      <td>3.590000</td>\n",
       "      <td>1.218046e+06</td>\n",
       "    </tr>\n",
       "    <tr>\n",
       "      <th>50%</th>\n",
       "      <td>89.000000</td>\n",
       "      <td>39.200000</td>\n",
       "      <td>1.205380e+05</td>\n",
       "      <td>4.200000e+04</td>\n",
       "      <td>18.250000</td>\n",
       "      <td>1.659000e+04</td>\n",
       "      <td>129.780000</td>\n",
       "      <td>2.600000</td>\n",
       "      <td>2.270000</td>\n",
       "      <td>32.015426</td>\n",
       "      <td>1.002457</td>\n",
       "      <td>3.814529e+10</td>\n",
       "      <td>102.470213</td>\n",
       "      <td>35.200000</td>\n",
       "      <td>14.800000</td>\n",
       "      <td>72.800000</td>\n",
       "      <td>67.000000</td>\n",
       "      <td>1.570000</td>\n",
       "      <td>32.100000</td>\n",
       "      <td>1.570000</td>\n",
       "      <td>8.877067e+06</td>\n",
       "      <td>62.738068</td>\n",
       "      <td>16.573964</td>\n",
       "      <td>37.900000</td>\n",
       "      <td>5.920000</td>\n",
       "      <td>4.717305e+06</td>\n",
       "    </tr>\n",
       "    <tr>\n",
       "      <th>75%</th>\n",
       "      <td>216.500000</td>\n",
       "      <td>54.850000</td>\n",
       "      <td>5.541675e+05</td>\n",
       "      <td>1.592749e+05</td>\n",
       "      <td>28.445000</td>\n",
       "      <td>8.881650e+04</td>\n",
       "      <td>179.485000</td>\n",
       "      <td>5.800000</td>\n",
       "      <td>3.565000</td>\n",
       "      <td>47.450000</td>\n",
       "      <td>1.185000</td>\n",
       "      <td>2.420877e+11</td>\n",
       "      <td>107.550000</td>\n",
       "      <td>61.100000</td>\n",
       "      <td>31.550000</td>\n",
       "      <td>77.250000</td>\n",
       "      <td>175.000000</td>\n",
       "      <td>2.194133</td>\n",
       "      <td>43.750000</td>\n",
       "      <td>2.875000</td>\n",
       "      <td>2.888532e+07</td>\n",
       "      <td>68.300000</td>\n",
       "      <td>20.300000</td>\n",
       "      <td>47.300000</td>\n",
       "      <td>8.840000</td>\n",
       "      <td>1.664211e+07</td>\n",
       "    </tr>\n",
       "    <tr>\n",
       "      <th>max</th>\n",
       "      <td>26337.000000</td>\n",
       "      <td>82.600000</td>\n",
       "      <td>1.709824e+07</td>\n",
       "      <td>3.031000e+06</td>\n",
       "      <td>46.080000</td>\n",
       "      <td>9.893038e+06</td>\n",
       "      <td>4583.710000</td>\n",
       "      <td>254.900000</td>\n",
       "      <td>6.910000</td>\n",
       "      <td>98.300000</td>\n",
       "      <td>2.000000</td>\n",
       "      <td>2.142770e+13</td>\n",
       "      <td>142.500000</td>\n",
       "      <td>136.600000</td>\n",
       "      <td>84.500000</td>\n",
       "      <td>85.400000</td>\n",
       "      <td>1150.000000</td>\n",
       "      <td>13.590000</td>\n",
       "      <td>81.600000</td>\n",
       "      <td>8.420000</td>\n",
       "      <td>1.397715e+09</td>\n",
       "      <td>86.800000</td>\n",
       "      <td>37.200000</td>\n",
       "      <td>219.600000</td>\n",
       "      <td>28.180000</td>\n",
       "      <td>8.429340e+08</td>\n",
       "    </tr>\n",
       "  </tbody>\n",
       "</table>\n",
       "</div>"
      ],
      "text/plain": [
       "       Density\\n(P/Km2)  Agricultural Land( %)  Land Area(Km2)  \\\n",
       "count        195.000000             195.000000    1.950000e+02   \n",
       "mean         356.764103              39.117553    6.896244e+05   \n",
       "std         1982.888967              21.386448    1.916650e+06   \n",
       "min            2.000000               0.600000    0.000000e+00   \n",
       "25%           35.500000              22.650000    2.445650e+04   \n",
       "50%           89.000000              39.200000    1.205380e+05   \n",
       "75%          216.500000              54.850000    5.541675e+05   \n",
       "max        26337.000000              82.600000    1.709824e+07   \n",
       "\n",
       "       Armed Forces size  Birth Rate  Co2-Emissions          CPI  \\\n",
       "count       1.950000e+02  195.000000   1.950000e+02   195.000000   \n",
       "mean        1.592749e+05   20.214974   1.777992e+05   190.460955   \n",
       "std         3.563077e+05    9.790765   8.235184e+05   380.111858   \n",
       "min         0.000000e+00    5.900000   1.100000e+01    99.030000   \n",
       "25%         1.250000e+04   11.450000   2.625500e+03   114.470000   \n",
       "50%         4.200000e+04   18.250000   1.659000e+04   129.780000   \n",
       "75%         1.592749e+05   28.445000   8.881650e+04   179.485000   \n",
       "max         3.031000e+06   46.080000   9.893038e+06  4583.710000   \n",
       "\n",
       "       CPI Change (%)  Fertility Rate  Forested Area (%)  Gasoline Price  \\\n",
       "count      195.000000      195.000000         195.000000      195.000000   \n",
       "mean         6.722346        2.698138          32.015426        1.002457   \n",
       "std         23.420457        1.258921          23.358162        0.349328   \n",
       "min         -4.300000        0.980000           0.000000        0.000000   \n",
       "25%          1.050000        1.710000          11.450000        0.790000   \n",
       "50%          2.600000        2.270000          32.015426        1.002457   \n",
       "75%          5.800000        3.565000          47.450000        1.185000   \n",
       "max        254.900000        6.910000          98.300000        2.000000   \n",
       "\n",
       "                GDP  Gross primary education enrollment (%)  \\\n",
       "count  1.950000e+02                              195.000000   \n",
       "mean   4.772959e+11                              102.470213   \n",
       "std    2.160948e+12                               12.912156   \n",
       "min    4.727146e+07                               23.400000   \n",
       "25%    8.476801e+09                               99.350000   \n",
       "50%    3.814529e+10                              102.470213   \n",
       "75%    2.420877e+11                              107.550000   \n",
       "max    2.142770e+13                              142.500000   \n",
       "\n",
       "       Gross tertiary education enrollment (%)  Infant mortality  \\\n",
       "count                               195.000000        195.000000   \n",
       "mean                                 37.963388         21.332804   \n",
       "std                                  28.341597         19.243394   \n",
       "min                                   0.800000          1.400000   \n",
       "25%                                  12.650000          6.100000   \n",
       "50%                                  35.200000         14.800000   \n",
       "75%                                  61.100000         31.550000   \n",
       "max                                 136.600000         84.500000   \n",
       "\n",
       "       Life expectancy  Maternal mortality ratio  Minimum wage  \\\n",
       "count       195.000000                195.000000    195.000000   \n",
       "mean         72.279679                160.392265      2.194133   \n",
       "std           7.327734                224.918945      2.603545   \n",
       "min          52.800000                  2.000000      0.010000   \n",
       "25%          67.450000                 16.500000      0.530000   \n",
       "50%          72.800000                 67.000000      1.570000   \n",
       "75%          77.250000                175.000000      2.194133   \n",
       "max          85.400000               1150.000000     13.590000   \n",
       "\n",
       "       Out of pocket health expenditure  Physicians per thousand  \\\n",
       "count                        195.000000               195.000000   \n",
       "mean                          32.637234                 1.839840   \n",
       "std                           18.823620                 1.653596   \n",
       "min                            0.200000                 0.010000   \n",
       "25%                           17.700000                 0.360000   \n",
       "50%                           32.100000                 1.570000   \n",
       "75%                           43.750000                 2.875000   \n",
       "max                           81.600000                 8.420000   \n",
       "\n",
       "         Population  Population: Labor force participation (%)  \\\n",
       "count  1.950000e+02                                 195.000000   \n",
       "mean   3.938116e+07                                  62.738068   \n",
       "std    1.447180e+08                                   9.975339   \n",
       "min    8.360000e+02                                  38.000000   \n",
       "25%    2.004434e+06                                  57.250000   \n",
       "50%    8.877067e+06                                  62.738068   \n",
       "75%    2.888532e+07                                  68.300000   \n",
       "max    1.397715e+09                                  86.800000   \n",
       "\n",
       "       Tax revenue (%)  Total tax rate  Unemployment rate  Urban_population  \n",
       "count       195.000000      195.000000         195.000000      1.950000e+02  \n",
       "mean         16.573964       40.822404           6.886364      2.230454e+07  \n",
       "std           6.478356       19.911710           4.824084      7.445211e+07  \n",
       "min           0.000000        8.000000           0.090000      5.464000e+03  \n",
       "25%          12.550000       30.900000           3.590000      1.218046e+06  \n",
       "50%          16.573964       37.900000           5.920000      4.717305e+06  \n",
       "75%          20.300000       47.300000           8.840000      1.664211e+07  \n",
       "max          37.200000      219.600000          28.180000      8.429340e+08  "
      ]
     },
     "execution_count": 185,
     "metadata": {},
     "output_type": "execute_result"
    }
   ],
   "source": [
    "df.describe()"
   ]
  },
  {
   "cell_type": "code",
   "execution_count": 77,
   "metadata": {},
   "outputs": [
    {
     "data": {
      "text/plain": [
       "Index(['Country', 'Density\\n(P/Km2)', 'Agricultural Land( %)',\n",
       "       'Land Area(Km2)', 'Armed Forces size', 'Birth Rate', 'Co2-Emissions',\n",
       "       'CPI', 'CPI Change (%)', 'Fertility Rate', 'Forested Area (%)',\n",
       "       'Gasoline Price', 'GDP', 'Gross primary education enrollment (%)',\n",
       "       'Gross tertiary education enrollment (%)', 'Infant mortality',\n",
       "       'Life expectancy', 'Maternal mortality ratio', 'Minimum wage',\n",
       "       'Out of pocket health expenditure', 'Physicians per thousand',\n",
       "       'Population', 'Population: Labor force participation (%)',\n",
       "       'Tax revenue (%)', 'Total tax rate', 'Unemployment rate',\n",
       "       'Urban_population'],\n",
       "      dtype='object')"
      ]
     },
     "execution_count": 77,
     "metadata": {},
     "output_type": "execute_result"
    }
   ],
   "source": [
    "df.columns"
   ]
  },
  {
   "cell_type": "code",
   "execution_count": 186,
   "metadata": {},
   "outputs": [
    {
     "data": {
      "image/png": "[encoded data removed]",
      "text/plain": [
       "<Figure size 576x432 with 1 Axes>"
      ]
     },
     "metadata": {
      "needs_background": "light"
     },
     "output_type": "display_data"
    }
   ],
   "source": [
    "# Scatter plot: Density vs Land Area: Spatial Distribution Pattern\n",
    "plt.figure(figsize=(8, 6))\n",
    "plt.scatter(df['Density\\n(P/Km2)'], df['Land Area(Km2)'])\n",
    "plt.xlabel('Density')\n",
    "plt.ylabel('Land Area')\n",
    "plt.title('Scatter Plot: Density vs Land Area: Spatial Distribution Pattern')\n",
    "plt.show()"
   ]
  },
  {
   "cell_type": "code",
   "execution_count": 187,
   "metadata": {},
   "outputs": [
    {
     "name": "stdout",
     "output_type": "stream",
     "text": [
      "Correlation between Density and Land Area: -0.05\n"
     ]
    }
   ],
   "source": [
    "# Correlation calculation between Density and Land Area\n",
    "\n",
    "correlation = df['Density\\n(P/Km2)'].corr(df['Land Area(Km2)'])\n",
    "print(f\"Correlation between Density and Land Area: {correlation:.2f}\")\n",
    "\n",
    "# A correlation coefficient of -0.05 suggests that there is a very slight tendency for Density and Land Area to move in opposite directions, but the relationship is extremely weak. \n",
    "# This means that changes in population density are not strongly predictive of changes in land area, and vice versa. \n",
    "# Other factors are likely to play a more significant role in determining population density and land area."
   ]
  },
  {
   "cell_type": "code",
   "execution_count": 188,
   "metadata": {
    "scrolled": true
   },
   "outputs": [
    {
     "name": "stdout",
     "output_type": "stream",
     "text": [
      "Correlation between GDP and Gross Primary Education Enrollment: -0.00\n"
     ]
    }
   ],
   "source": [
    "# Correlation between GDP and Gross Primary Education Enrollment\n",
    "\n",
    "correlation = df['GDP'].corr(df['Gross primary education enrollment (%)'])\n",
    "print(f\"Correlation between GDP and Gross Primary Education Enrollment: {correlation:.2f}\")\n",
    "\n",
    "# This value suggests that the fluctuations in GDP are not at all predictive of or associated with changes in Gross Primary Education Enrollment, and vice versa."
   ]
  },
  {
   "cell_type": "code",
   "execution_count": null,
   "metadata": {},
   "outputs": [],
   "source": []
  },
  {
   "cell_type": "code",
   "execution_count": 190,
   "metadata": {},
   "outputs": [
    {
     "data": {
      "image/png": "[encoded data removed]",
      "text/plain": [
       "<Figure size 720x432 with 1 Axes>"
      ]
     },
     "metadata": {
      "needs_background": "light"
     },
     "output_type": "display_data"
    }
   ],
   "source": [
    "# Scatter plot to visualize the correlation between GDP and Gross Primary Education Enrollment\n",
    "\n",
    "plt.figure(figsize=(10, 6))\n",
    "sb.scatterplot(x='GDP', y='Gross primary education enrollment (%)', data=df)\n",
    "plt.xlabel('GDP')\n",
    "plt.ylabel('Gross Primary Education Enrollment (%)')\n",
    "plt.title('GDP vs. Gross Primary Education Enrollment')\n",
    "plt.show()"
   ]
  },
  {
   "cell_type": "code",
   "execution_count": 86,
   "metadata": {},
   "outputs": [
    {
     "name": "stdout",
     "output_type": "stream",
     "text": [
      "       Country  Density\\n(P/Km2)  Agricultural Land( %)  Land Area(Km2)  \\\n",
      "0  Afghanistan              60.0                   58.1        652230.0   \n",
      "1      Albania             105.0                   43.1         28748.0   \n",
      "2      Algeria              18.0                   17.4       2381741.0   \n",
      "3      Andorra             164.0                   40.0           468.0   \n",
      "4       Angola              26.0                   47.5       1246700.0   \n",
      "\n",
      "   Armed Forces size  Birth Rate  Co2-Emissions         CPI  CPI Change (%)  \\\n",
      "0      323000.000000       32.49         8672.0  149.900000        2.300000   \n",
      "1        9000.000000       11.78         4536.0  119.050000        1.400000   \n",
      "2      317000.000000       24.28       150006.0  151.360000        2.000000   \n",
      "3      159274.853801        7.20          469.0  190.460955        6.722346   \n",
      "4      117000.000000       40.73        34693.0  261.730000       17.100000   \n",
      "\n",
      "   Fertility Rate  Forested Area (%)  Gasoline Price           GDP  \\\n",
      "0            4.47                2.1            0.70  1.910135e+10   \n",
      "1            1.62               28.1            1.36  1.527808e+10   \n",
      "2            3.02                0.8            0.28  1.699882e+11   \n",
      "3            1.27               34.0            1.51  3.154058e+09   \n",
      "4            5.52               46.3            0.97  9.463542e+10   \n",
      "\n",
      "   Gross primary education enrollment (%)  \\\n",
      "0                                   104.0   \n",
      "1                                   107.0   \n",
      "2                                   109.9   \n",
      "3                                   106.4   \n",
      "4                                   113.5   \n",
      "\n",
      "   Gross tertiary education enrollment (%)  Infant mortality  Life expectancy  \\\n",
      "0                                 9.700000              47.9        64.500000   \n",
      "1                                55.000000               7.8        78.500000   \n",
      "2                                51.400000              20.1        76.700000   \n",
      "3                                37.963388               2.7        72.279679   \n",
      "4                                 9.300000              51.6        60.800000   \n",
      "\n",
      "   Maternal mortality ratio  Minimum wage  Out of pocket health expenditure  \\\n",
      "0                638.000000          0.43                              78.4   \n",
      "1                 15.000000          1.12                              56.9   \n",
      "2                112.000000          0.95                              28.1   \n",
      "3                160.392265          6.63                              36.4   \n",
      "4                241.000000          0.71                              33.4   \n",
      "\n",
      "   Physicians per thousand  Population  \\\n",
      "0                     0.28  38041754.0   \n",
      "1                     1.20   2854191.0   \n",
      "2                     1.72  43053054.0   \n",
      "3                     3.33     77142.0   \n",
      "4                     0.21  31825295.0   \n",
      "\n",
      "   Population: Labor force participation (%)  Tax revenue (%)  Total tax rate  \\\n",
      "0                                  48.900000         9.300000       71.400000   \n",
      "1                                  55.700000        18.600000       36.600000   \n",
      "2                                  41.200000        37.200000       66.100000   \n",
      "3                                  62.738068        16.573964       40.822404   \n",
      "4                                  77.500000         9.200000       49.100000   \n",
      "\n",
      "   Unemployment rate  Urban_population  \n",
      "0          11.120000         9797273.0  \n",
      "1          12.330000         1747593.0  \n",
      "2          11.700000        31510100.0  \n",
      "3           6.886364           67873.0  \n",
      "4           6.890000        21061025.0  \n"
     ]
    }
   ],
   "source": [
    "print(df.head())"
   ]
  },
  {
   "cell_type": "code",
   "execution_count": 191,
   "metadata": {},
   "outputs": [
    {
     "name": "stdout",
     "output_type": "stream",
     "text": [
      "Correlation between GDP and Armed Forces size: 0.60\n"
     ]
    }
   ],
   "source": [
    "# Correlation between GDP and Armed Forces size\n",
    "\n",
    "correlation = df['GDP'].corr(df['Armed Forces size'])\n",
    "print(f\"Correlation between GDP and Armed Forces size: {correlation:.2f}\")\n",
    "\n",
    "# A correlation coefficient of 0.60 suggests that there is a moderate tendency for GDP and Armed Forces size to move in the same direction. \n",
    "# This means that as a country's GDP increases, there's a tendency for its Armed Forces size to increase as well, and vice versa."
   ]
  },
  {
   "cell_type": "code",
   "execution_count": 192,
   "metadata": {},
   "outputs": [
    {
     "name": "stdout",
     "output_type": "stream",
     "text": [
      "Correlation between GDP and Gross tertiary education enrollment : 0.21\n"
     ]
    }
   ],
   "source": [
    "# Correlation between GDP and Gross tertiary education enrollment\n",
    "\n",
    "correlation = df['GDP'].corr(df['Gross tertiary education enrollment (%)'])\n",
    "print(f\"Correlation between GDP and Gross tertiary education enrollment : {correlation:.2f}\")\n",
    "\n",
    "# A correlation coefficient of 0.21 suggests that there is a weak tendency for GDP and Gross Tertiary Education Enrollment to move in the same direction. \n",
    "# This means that as a country's GDP increases, there is a slight tendency for its Gross Tertiary Education Enrollment to also increase, and vice versa."
   ]
  },
  {
   "cell_type": "code",
   "execution_count": 89,
   "metadata": {},
   "outputs": [
    {
     "name": "stdout",
     "output_type": "stream",
     "text": [
      "Correlation between GDP and Life expectancy : 0.18\n"
     ]
    }
   ],
   "source": [
    "# Correlation between GDP and Life expectancy\n",
    "\n",
    "correlation = df['GDP'].corr(df['Life expectancy'])\n",
    "print(f\"Correlation between GDP and Life expectancy : {correlation:.2f}\")\n",
    "\n",
    "#  A correlation coefficient of 0.18 suggests that there is a weak tendency for GDP and Life Expectancy to move in the same direction. \n",
    "# This means that as a country's GDP increases, there is a slight tendency for its Life Expectancy to also increase, and vice versa. "
   ]
  },
  {
   "cell_type": "code",
   "execution_count": 193,
   "metadata": {},
   "outputs": [
    {
     "name": "stdout",
     "output_type": "stream",
     "text": [
      "Correlation between GDP and Out of pocket health expenditure : -0.10\n"
     ]
    }
   ],
   "source": [
    "# Correlation between GDP and Out of pocket health expenditure\n",
    "\n",
    "correlation = df['GDP'].corr(df['Out of pocket health expenditure'])\n",
    "print(f\"Correlation between GDP and Out of pocket health expenditure : {correlation:.2f}\")\n",
    "\n",
    "# A correlation coefficient of -0.10 suggests that there is a very slight tendency for GDP and Out of Pocket Health Expenditure to move in opposite directions, but the relationship is extremely weak. \n",
    "# This means that changes in GDP are not strongly predictive of changes in Out of Pocket Health Expenditure, and vice versa. "
   ]
  },
  {
   "cell_type": "code",
   "execution_count": 194,
   "metadata": {},
   "outputs": [
    {
     "name": "stdout",
     "output_type": "stream",
     "text": [
      "Correlation between GDP and Co2-Emissions : 0.92\n"
     ]
    }
   ],
   "source": [
    "# Correlation between GDP and CO2-Emissions\n",
    "\n",
    "correlation = df['GDP'].corr(df['Co2-Emissions'])\n",
    "print(f\"Correlation between GDP and Co2-Emissions : {correlation:.2f}\")\n",
    "\n",
    "# A correlation coefficient of 0.92 suggests that there is a strong tendency for GDP and CO2 emissions to move in the same direction. \n",
    "# This means that as a country's GDP increases, there is a significant tendency for its CO2 emissions to also increase, and vice versa. \n",
    "# The strong positive correlation suggests that economic growth and carbon emissions are closely related, indicating that higher economic activity often leads to higher carbon emissions.\n"
   ]
  },
  {
   "cell_type": "code",
   "execution_count": 195,
   "metadata": {},
   "outputs": [
    {
     "name": "stdout",
     "output_type": "stream",
     "text": [
      "Correlation between GDP and CPI : -0.03\n"
     ]
    }
   ],
   "source": [
    "# Correlation between GDP and CPI\n",
    "\n",
    "correlation = df['GDP'].corr(df['CPI'])\n",
    "print(f\"Correlation between GDP and CPI : {correlation:.2f}\")\n",
    "\n",
    "# A correlation coefficient of -0.03 suggests that there is a very slight tendency for GDP and CPI to move in opposite directions, but the relationship is extremely weak. \n",
    "# This means that changes in GDP are not strongly predictive of changes in the Consumer Price Index, and vice versa. \n",
    "# Other factors, such as inflationary pressures and monetary policies, likely play a more significant role in influencing changes in the CPI.\n"
   ]
  },
  {
   "cell_type": "code",
   "execution_count": 93,
   "metadata": {},
   "outputs": [
    {
     "data": {
      "image/png": "[encoded data removed]",
      "text/plain": [
       "<Figure size 576x432 with 2 Axes>"
      ]
     },
     "metadata": {
      "needs_background": "light"
     },
     "output_type": "display_data"
    }
   ],
   "source": [
    "# Correlation between agricultural land percentage and food security indicators\n",
    "corr_food_security = df[['Agricultural Land( %)', 'Minimum wage', 'Out of pocket health expenditure']].corr()\n",
    "\n",
    "# Visualize correlation using a heatmap\n",
    "plt.figure(figsize=(8, 6))\n",
    "sb.heatmap(corr_food_security, annot=True, cmap='coolwarm', center=0)\n",
    "plt.title('Correlation between Agricultural Land and Food Security Indicators')\n",
    "plt.show()"
   ]
  },
  {
   "cell_type": "code",
   "execution_count": 94,
   "metadata": {},
   "outputs": [
    {
     "data": {
      "image/png": "[encoded data removed]",
      "text/plain": [
       "<Figure size 576x432 with 2 Axes>"
      ]
     },
     "metadata": {
      "needs_background": "light"
     },
     "output_type": "display_data"
    }
   ],
   "source": [
    "# Calculate correlation between CO2 emissions and environmental indicators\n",
    "corr_environment = df[['Co2-Emissions', 'Forested Area (%)', 'Gasoline Price']].corr()\n",
    "\n",
    "# Visualize correlation using a heatmap\n",
    "plt.figure(figsize=(8, 6))\n",
    "sb.heatmap(corr_environment, annot=True, cmap='Greens', center=0)\n",
    "plt.title('Correlation between CO2 Emissions and Environmental Indicators')\n",
    "plt.show()"
   ]
  },
  {
   "cell_type": "code",
   "execution_count": 95,
   "metadata": {},
   "outputs": [
    {
     "data": {
      "image/png": "[encoded data removed]",
      "text/plain": [
       "<Figure size 576x432 with 2 Axes>"
      ]
     },
     "metadata": {
      "needs_background": "light"
     },
     "output_type": "display_data"
    }
   ],
   "source": [
    "# Calculate correlations between economic indicators and socio-economic factors\n",
    "corr_economic_socio = df[['GDP', 'Total tax rate', 'Population: Labor force participation (%)']].corr()\n",
    "\n",
    "# Visualize correlation using a heatmap\n",
    "plt.figure(figsize=(8, 6))\n",
    "sb.heatmap(corr_economic_socio, annot=True, cmap='BuPu', center=0)\n",
    "plt.title('Correlation between Economic Indicators and Socio-Economic Factors')\n",
    "plt.show()"
   ]
  },
  {
   "cell_type": "code",
   "execution_count": 96,
   "metadata": {},
   "outputs": [
    {
     "data": {
      "image/png": "[encoded data removed]",
      "text/plain": [
       "<Figure size 576x432 with 2 Axes>"
      ]
     },
     "metadata": {
      "needs_background": "light"
     },
     "output_type": "display_data"
    }
   ],
   "source": [
    "# Correlation between educational enrollment rates and economic indicators\n",
    "corr_education_economic = df[['Gross primary education enrollment (%)', 'Gross tertiary education enrollment (%)', 'GDP']].corr()\n",
    "\n",
    "# Visualize correlation using a heatmap\n",
    "plt.figure(figsize=(8, 6))\n",
    "sb.heatmap(corr_education_economic, annot=True, cmap='Greens', center=0)\n",
    "plt.title('Correlation between Educational Enrollment Rates and GDP')\n",
    "plt.show()"
   ]
  },
  {
   "cell_type": "code",
   "execution_count": 97,
   "metadata": {},
   "outputs": [
    {
     "data": {
      "image/png": "[encoded data removed]",
      "text/plain": [
       "<Figure size 576x432 with 2 Axes>"
      ]
     },
     "metadata": {
      "needs_background": "light"
     },
     "output_type": "display_data"
    }
   ],
   "source": [
    "# Correlation between healthcare metrics and economic indicators\n",
    "corr_health_economic = df[['Infant mortality', 'Life expectancy', 'GDP']].corr()\n",
    "\n",
    "# Visualize correlation using a heatmap\n",
    "plt.figure(figsize=(8, 6))\n",
    "sb.heatmap(corr_health_economic, annot=True, cmap='Blues', center=0)\n",
    "plt.title('Correlation between Healthcare Metrics and GDP')\n",
    "plt.show()"
   ]
  },
  {
   "cell_type": "code",
   "execution_count": 98,
   "metadata": {},
   "outputs": [
    {
     "data": {
      "image/png": "[encoded data removed]",
      "text/plain": [
       "<Figure size 576x432 with 2 Axes>"
      ]
     },
     "metadata": {
      "needs_background": "light"
     },
     "output_type": "display_data"
    }
   ],
   "source": [
    "# Correlation between labor market indicators and economic indicators\n",
    "corr_labor_economic = df[['Population: Labor force participation (%)', 'Unemployment rate', 'GDP']].corr()\n",
    "\n",
    "# Visualize correlation using a heatmap\n",
    "plt.figure(figsize=(8, 6))\n",
    "sb.heatmap(corr_labor_economic, annot=True, cmap='PiYG', center=0)\n",
    "plt.title('Correlation between Labor Market Indicators and GDP')\n",
    "plt.show()"
   ]
  },
  {
   "cell_type": "code",
   "execution_count": 99,
   "metadata": {},
   "outputs": [
    {
     "data": {
      "image/png": "[encoded data removed]",
      "text/plain": [
       "<Figure size 576x432 with 2 Axes>"
      ]
     },
     "metadata": {
      "needs_background": "light"
     },
     "output_type": "display_data"
    }
   ],
   "source": [
    "# Correlation between tax-related metrics and economic indicators\n",
    "corr_tax_economic = df[['Total tax rate', 'GDP']].corr()\n",
    "\n",
    "# Visualize correlation using a heatmap\n",
    "plt.figure(figsize=(8, 6))\n",
    "sb.heatmap(corr_tax_economic, annot=True, cmap='coolwarm', center=0)\n",
    "plt.title('Correlation between Total Tax Rate and GDP')\n",
    "plt.show()"
   ]
  },
  {
   "cell_type": "code",
   "execution_count": 100,
   "metadata": {},
   "outputs": [
    {
     "data": {
      "image/png": "[encoded data removed]",
      "text/plain": [
       "<Figure size 576x432 with 2 Axes>"
      ]
     },
     "metadata": {
      "needs_background": "light"
     },
     "output_type": "display_data"
    }
   ],
   "source": [
    "# Correlation between urbanization and environmental indicators\n",
    "corr_urban_environment = df[['Urban_population', 'Co2-Emissions', 'Forested Area (%)']].corr()\n",
    "\n",
    "# Visualize correlation using a heatmap\n",
    "plt.figure(figsize=(8, 6))\n",
    "sb.heatmap(corr_urban_environment, annot=True, cmap='YlGnBu', center=0)\n",
    "plt.title('Correlation between Urbanization and Environmental Indicators')\n",
    "plt.show()"
   ]
  },
  {
   "cell_type": "code",
   "execution_count": 101,
   "metadata": {},
   "outputs": [
    {
     "name": "stdout",
     "output_type": "stream",
     "text": [
      "The country with the highest CO2 emissions is: China\n"
     ]
    }
   ],
   "source": [
    "# The country with the highest CO2 emissions is: China\n",
    "# Find the row index with the highest CO2 emissions\n",
    "max_co2_row_index = df['Co2-Emissions'].idxmax()\n",
    "\n",
    "# Retrieve the country name with the highest CO2 emissions\n",
    "country_with_max_co2 = df.loc[max_co2_row_index, 'Country']\n",
    "\n",
    "print(f\"The country with the highest CO2 emissions is: {country_with_max_co2}\")"
   ]
  },
  {
   "cell_type": "code",
   "execution_count": 102,
   "metadata": {},
   "outputs": [
    {
     "name": "stdout",
     "output_type": "stream",
     "text": [
      "The country with the lowest CO2 emissions is: Tuvalu\n"
     ]
    }
   ],
   "source": [
    "# The country with the lowest CO2 emissions is: Tuvalu\n",
    "# Find the row index with the lowest CO2 emissions\n",
    "min_co2_row_index = df['Co2-Emissions'].idxmin()\n",
    "\n",
    "# Retrieve the country name with the lowest CO2 emissions\n",
    "country_with_min_co2 = df.loc[min_co2_row_index, 'Country']\n",
    "\n",
    "print(f\"The country with the lowest CO2 emissions is: {country_with_min_co2}\")"
   ]
  },
  {
   "cell_type": "code",
   "execution_count": 103,
   "metadata": {},
   "outputs": [
    {
     "name": "stdout",
     "output_type": "stream",
     "text": [
      "The country with the highest GDP is: United States\n"
     ]
    }
   ],
   "source": [
    "# The country with the highest GDP is: United State\n",
    "\n",
    "max_GDP_row_index=df['GDP'].idxmax()\n",
    "country_with_max_GDP=df.loc[max_GDP_row_index,'Country'] \n",
    "print(f\"The country with the highest GDP is: {country_with_max_GDP}\")"
   ]
  },
  {
   "cell_type": "code",
   "execution_count": 104,
   "metadata": {},
   "outputs": [
    {
     "name": "stdout",
     "output_type": "stream",
     "text": [
      "The country with the lowest GDP is: Tuvalu\n"
     ]
    }
   ],
   "source": [
    "# The country with the lowest GDP is: Tuvalu\n",
    "\n",
    "min_GDP_row_index=df['GDP'].idxmin()\n",
    "country_with_min_GDP=df.loc[min_GDP_row_index,'Country'] \n",
    "print(f\"The country with the lowest GDP is: {country_with_min_GDP}\")"
   ]
  },
  {
   "cell_type": "code",
   "execution_count": 106,
   "metadata": {},
   "outputs": [
    {
     "name": "stdout",
     "output_type": "stream",
     "text": [
      "The country with the maximum population density is: Monaco\n"
     ]
    }
   ],
   "source": [
    "# The country with the maximum population density is: Monaco\n",
    "\n",
    "max_populationdensity_row_index=df['Density\\n(P/Km2)'].idxmax()\n",
    "country_with_max_population_density=df.loc[max_populationdensity_row_index,'Country'] \n",
    "print(f\"The country with the maximum population density is: {country_with_max_population_density}\")"
   ]
  },
  {
   "cell_type": "code",
   "execution_count": 107,
   "metadata": {},
   "outputs": [
    {
     "name": "stdout",
     "output_type": "stream",
     "text": [
      "The country with the minimum population density is: Mongolia\n"
     ]
    }
   ],
   "source": [
    "# The country with the minimum population density is: Mongolia\n",
    "\n",
    "min_populationdensity_row_index=df['Density\\n(P/Km2)'].idxmin()\n",
    "country_with_min_population_density=df.loc[min_populationdensity_row_index,'Country'] \n",
    "print(f\"The country with the minimum population density is: {country_with_min_population_density}\")"
   ]
  },
  {
   "cell_type": "code",
   "execution_count": 108,
   "metadata": {},
   "outputs": [
    {
     "name": "stdout",
     "output_type": "stream",
     "text": [
      "The country with the maximum agricultural land is: Uruguay\n"
     ]
    }
   ],
   "source": [
    "# The country with the maximum agricultural land is: Uruguay\n",
    "\n",
    "max_agriland_row_index=df['Agricultural Land( %)'].idxmax()\n",
    "country_with_max_agriland=df.loc[max_agriland_row_index,'Country'] \n",
    "print(f\"The country with the maximum agricultural land is: {country_with_max_agriland}\")"
   ]
  },
  {
   "cell_type": "code",
   "execution_count": 109,
   "metadata": {},
   "outputs": [
    {
     "name": "stdout",
     "output_type": "stream",
     "text": [
      "The country with the minimum agricultural land is: Suriname\n"
     ]
    }
   ],
   "source": [
    "# The country with the minimum agricultural land is: Suriname\n",
    "\n",
    "min_agriland_row_index=df['Agricultural Land( %)'].idxmin()\n",
    "country_with_min_agriland=df.loc[min_agriland_row_index,'Country'] \n",
    "print(f\"The country with the minimum agricultural land is: {country_with_min_agriland}\")\n"
   ]
  },
  {
   "cell_type": "code",
   "execution_count": 110,
   "metadata": {},
   "outputs": [
    {
     "name": "stdout",
     "output_type": "stream",
     "text": [
      "The country with the maximum land area is: Russia\n"
     ]
    }
   ],
   "source": [
    "# The country with the maximum land area is: Russia\n",
    "\n",
    "max_land_row_index=df['Land Area(Km2)'].idxmax()\n",
    "country_with_max_land=df.loc[max_land_row_index,'Country'] \n",
    "print(f\"The country with the maximum land area is: {country_with_max_land}\")"
   ]
  },
  {
   "cell_type": "code",
   "execution_count": 111,
   "metadata": {},
   "outputs": [
    {
     "name": "stdout",
     "output_type": "stream",
     "text": [
      "The country with the minimum land area is: Vatican City\n"
     ]
    }
   ],
   "source": [
    "# The country with the minimum land area is: Vatican City\n",
    "\n",
    "min_land_row_index=df['Land Area(Km2)'].idxmin()\n",
    "country_with_min_land=df.loc[min_land_row_index,'Country'] \n",
    "print(f\"The country with the minimum land area is: {country_with_min_land}\")\n"
   ]
  },
  {
   "cell_type": "code",
   "execution_count": 112,
   "metadata": {},
   "outputs": [
    {
     "name": "stdout",
     "output_type": "stream",
     "text": [
      "The country with the largest armed forces size is: India\n"
     ]
    }
   ],
   "source": [
    "# The country with the largest armed forces size is: India\n",
    "\n",
    "max_armed_row_index=df['Armed Forces size'].idxmax()\n",
    "country_with_max_armed=df.loc[max_armed_row_index,'Country'] \n",
    "print(f\"The country with the largest armed forces size is: {country_with_max_armed}\")\n"
   ]
  },
  {
   "cell_type": "code",
   "execution_count": 114,
   "metadata": {},
   "outputs": [
    {
     "name": "stdout",
     "output_type": "stream",
     "text": [
      "The country with the smallest armed forces size is: Antigua and Barbuda\n"
     ]
    }
   ],
   "source": [
    "# The country with the smallest armed forces size is: Antigua and Barbuda\n",
    "\n",
    "min_armed_row_index=df['Armed Forces size'].idxmin()\n",
    "country_with_min_armed=df.loc[min_armed_row_index,'Country'] \n",
    "print(f\"The country with the smallest armed forces size is: {country_with_min_armed}\")"
   ]
  },
  {
   "cell_type": "code",
   "execution_count": 115,
   "metadata": {},
   "outputs": [
    {
     "name": "stdout",
     "output_type": "stream",
     "text": [
      "The country with the highest birth rate is: Niger\n"
     ]
    }
   ],
   "source": [
    "# The country with the highest birth rate is: Niger\n",
    "\n",
    "max_birth_row_index=df['Birth Rate'].idxmax()\n",
    "country_with_max_birth=df.loc[max_birth_row_index,'Country'] \n",
    "print(f\"The country with the highest birth rate is: {country_with_max_birth}\")"
   ]
  },
  {
   "cell_type": "code",
   "execution_count": 116,
   "metadata": {},
   "outputs": [
    {
     "name": "stdout",
     "output_type": "stream",
     "text": [
      "The country with the lowest birth rate is: Monaco\n"
     ]
    }
   ],
   "source": [
    "# The country with the lowest birth rate is: Monaco\n",
    "\n",
    "min_birth_row_index=df['Birth Rate'].idxmin()\n",
    "country_with_min_birth=df.loc[min_birth_row_index,'Country'] \n",
    "print(f\"The country with the lowest birth rate is: {country_with_min_birth}\")"
   ]
  },
  {
   "cell_type": "code",
   "execution_count": 117,
   "metadata": {},
   "outputs": [
    {
     "name": "stdout",
     "output_type": "stream",
     "text": [
      "The country with the highest fertility rate is: Niger\n"
     ]
    }
   ],
   "source": [
    "# The country with the highest fertility rate is: Niger\n",
    "\n",
    "max_fertility_row_index=df['Fertility Rate'].idxmax()\n",
    "country_with_max_fertility=df.loc[max_fertility_row_index,'Country'] \n",
    "print(f\"The country with the highest fertility rate is: {country_with_max_fertility}\")"
   ]
  },
  {
   "cell_type": "code",
   "execution_count": 118,
   "metadata": {},
   "outputs": [
    {
     "name": "stdout",
     "output_type": "stream",
     "text": [
      "The country with the lowest fertility rate is: South Korea\n"
     ]
    }
   ],
   "source": [
    "# The country with the lowest fertility rate is: South Korea\n",
    "\n",
    "min_fertility_row_index=df['Fertility Rate'].idxmin()\n",
    "country_with_min_fertility=df.loc[min_fertility_row_index,'Country'] \n",
    "print(f\"The country with the lowest fertility rate is: {country_with_min_fertility}\")\n"
   ]
  },
  {
   "cell_type": "code",
   "execution_count": 120,
   "metadata": {},
   "outputs": [
    {
     "name": "stdout",
     "output_type": "stream",
     "text": [
      "The country with the largest forested area is: Suriname\n"
     ]
    }
   ],
   "source": [
    "# The country with the largest forested area is: Suriname\n",
    "\n",
    "max_forest_row_index=df['Forested Area (%)'].idxmax()\n",
    "country_with_max_forest=df.loc[max_forest_row_index,'Country'] \n",
    "print(f\"The country with the largest forested area is: {country_with_max_forest}\")\n"
   ]
  },
  {
   "cell_type": "code",
   "execution_count": 121,
   "metadata": {},
   "outputs": [
    {
     "name": "stdout",
     "output_type": "stream",
     "text": [
      "The country with the smallest forested area is: Oman\n"
     ]
    }
   ],
   "source": [
    "# The country with the smallest forested area is: Oman\n",
    "\n",
    "min_forest_row_index=df['Forested Area (%)'].idxmin()\n",
    "country_with_min_forest=df.loc[min_forest_row_index,'Country'] \n",
    "print(f\"The country with the smallest forested area is: {country_with_min_forest}\")"
   ]
  },
  {
   "cell_type": "code",
   "execution_count": 122,
   "metadata": {},
   "outputs": [
    {
     "name": "stdout",
     "output_type": "stream",
     "text": [
      "The country with the highest percentage of primary education enrollment is: Madagascar\n"
     ]
    }
   ],
   "source": [
    "# The country with the highest percentage of primary education enrollment is: Madagascar\n",
    "\n",
    "max_primary_row_index=df['Gross primary education enrollment (%)'].idxmax()\n",
    "country_with_max_primary=df.loc[max_primary_row_index,'Country'] \n",
    "print(f\"The country with the highest percentage of primary education enrollment is: {country_with_max_primary}\")\n"
   ]
  },
  {
   "cell_type": "code",
   "execution_count": 123,
   "metadata": {},
   "outputs": [
    {
     "name": "stdout",
     "output_type": "stream",
     "text": [
      "The country with the lowest percentage of primary education enrollment is: Somalia\n"
     ]
    }
   ],
   "source": [
    "# The country with the lowest percentage of primary education enrollment is: Somalia\n",
    "\n",
    "min_primary_row_index=df['Gross primary education enrollment (%)'].idxmin()\n",
    "country_with_min_primary=df.loc[min_primary_row_index,'Country'] \n",
    "print(f\"The country with the lowest percentage of primary education enrollment is: {country_with_min_primary}\")"
   ]
  },
  {
   "cell_type": "code",
   "execution_count": 124,
   "metadata": {},
   "outputs": [
    {
     "name": "stdout",
     "output_type": "stream",
     "text": [
      "The country with the highest percentage of tertiary education enrollment is: Greece\n"
     ]
    }
   ],
   "source": [
    "# The country with the highest percentage of tertiary education enrollment is: Greece\n",
    "\n",
    "max_tertiary_row_index=df['Gross tertiary education enrollment (%)'].idxmax()\n",
    "country_with_max_tertiary=df.loc[max_tertiary_row_index,'Country'] \n",
    "print(f\"The country with the highest percentage of tertiary education enrollment is: {country_with_max_tertiary}\")\n"
   ]
  },
  {
   "cell_type": "code",
   "execution_count": 125,
   "metadata": {},
   "outputs": [
    {
     "name": "stdout",
     "output_type": "stream",
     "text": [
      "The country with the lowest percentage of tertiary education enrollment is: Malawi\n"
     ]
    }
   ],
   "source": [
    "# The country with the lowest percentage of tertiary education enrollment is: Malawi\n",
    "\n",
    "min_tertiary_row_index=df['Gross tertiary education enrollment (%)'].idxmin()\n",
    "country_with_min_tertiary=df.loc[min_tertiary_row_index,'Country'] \n",
    "print(f\"The country with the lowest percentage of tertiary education enrollment is: {country_with_min_tertiary}\")"
   ]
  },
  {
   "cell_type": "code",
   "execution_count": 128,
   "metadata": {},
   "outputs": [
    {
     "name": "stdout",
     "output_type": "stream",
     "text": [
      "The country with the highest infant mortality is: Central African Republic\n"
     ]
    }
   ],
   "source": [
    "# The country with the highest infant mortality is: Central African Republic\n",
    "\n",
    "max_infant_row_index=df['Infant mortality'].idxmax()\n",
    "country_with_max_infant=df.loc[max_infant_row_index,'Country'] \n",
    "print(f\"The country with the highest infant mortality is: {country_with_max_infant}\")\n"
   ]
  },
  {
   "cell_type": "code",
   "execution_count": 129,
   "metadata": {},
   "outputs": [
    {
     "name": "stdout",
     "output_type": "stream",
     "text": [
      "The country with the lowest infant mortality is: Finland\n"
     ]
    }
   ],
   "source": [
    "# The country with the lowest infant mortality is: Finland\n",
    "\n",
    "min_infant_row_index=df['Infant mortality'].idxmin()\n",
    "country_with_min_infant=df.loc[min_infant_row_index,'Country'] \n",
    "print(f\"The country with the lowest infant mortality is: {country_with_min_infant}\")"
   ]
  },
  {
   "cell_type": "code",
   "execution_count": 138,
   "metadata": {},
   "outputs": [
    {
     "name": "stdout",
     "output_type": "stream",
     "text": [
      "The country with the longest life expectancy is: San Marino with 85.4\n"
     ]
    }
   ],
   "source": [
    "# The country with the longest life expectancy is: San Marino with 85.4\n",
    "\n",
    "max_life_row_index=df['Life expectancy'].idxmax()\n",
    "country_with_max_life=df.loc[max_life_row_index,'Country'] \n",
    "country_with_max_life_value=df.loc[max_life_row_index,'Life expectancy'] \n",
    "print(f\"The country with the longest life expectancy is: {country_with_max_life} with {country_with_max_life_value}\")\n"
   ]
  },
  {
   "cell_type": "code",
   "execution_count": 131,
   "metadata": {},
   "outputs": [
    {
     "name": "stdout",
     "output_type": "stream",
     "text": [
      "The country with the shortest life expectancy is: Central African Republic\n"
     ]
    }
   ],
   "source": [
    "# The country with the shortest life expectancy is: Central African Republic\n",
    "\n",
    "min_life_row_index=df['Life expectancy'].idxmin()\n",
    "country_with_min_life=df.loc[min_life_row_index,'Country'] \n",
    "print(f\"The country with the shortest life expectancy is: {country_with_min_life}\")\n"
   ]
  },
  {
   "cell_type": "code",
   "execution_count": 132,
   "metadata": {},
   "outputs": [
    {
     "name": "stdout",
     "output_type": "stream",
     "text": [
      "The country with the maximum physicians per 1000 is: Cuba\n"
     ]
    }
   ],
   "source": [
    "# The country with the maximum physicians per 1000 is: Cuba\n",
    "\n",
    "max_physicians_row_index=df['Physicians per thousand'].idxmax()\n",
    "country_with_max_physicians=df.loc[max_physicians_row_index,'Country'] \n",
    "print(f\"The country with the maximum physicians per 1000 is: {country_with_max_physicians}\")"
   ]
  },
  {
   "cell_type": "code",
   "execution_count": 133,
   "metadata": {},
   "outputs": [
    {
     "name": "stdout",
     "output_type": "stream",
     "text": [
      "The country with the minimum physicians per 1000 is: Tanzania\n"
     ]
    }
   ],
   "source": [
    "# The country with the minimum physicians per 1000 is: Tanzania\n",
    "\n",
    "min_physicians_row_index=df['Physicians per thousand'].idxmin()\n",
    "country_with_min_physicians=df.loc[min_physicians_row_index,'Country'] \n",
    "print(f\"The country with the minimum physicians per 1000 is: {country_with_min_physicians}\")\n"
   ]
  },
  {
   "cell_type": "code",
   "execution_count": 134,
   "metadata": {},
   "outputs": [
    {
     "name": "stdout",
     "output_type": "stream",
     "text": [
      "The country with the maximum population is: China\n"
     ]
    }
   ],
   "source": [
    "# The country with the maximum population is: China\n",
    "\n",
    "max_population_row_index=df['Population'].idxmax()\n",
    "country_with_max_population=df.loc[max_population_row_index,'Country'] \n",
    "print(f\"The country with the maximum population is: {country_with_max_population}\")"
   ]
  },
  {
   "cell_type": "code",
   "execution_count": 135,
   "metadata": {},
   "outputs": [
    {
     "name": "stdout",
     "output_type": "stream",
     "text": [
      "The country with the minimum population is: Vatican City\n"
     ]
    }
   ],
   "source": [
    "# The country with the minimum population is: Vatican City\n",
    "\n",
    "min_population_row_index=df['Population'].idxmin()\n",
    "country_with_min_population=df.loc[min_population_row_index,'Country'] \n",
    "print(f\"The country with the minimum population is: {country_with_min_population}\")"
   ]
  },
  {
   "cell_type": "code",
   "execution_count": 136,
   "metadata": {},
   "outputs": [
    {
     "name": "stdout",
     "output_type": "stream",
     "text": [
      "The country with the highest unemploment rate is: South Africa\n"
     ]
    }
   ],
   "source": [
    "# The country with the highest unemploment rate is: South Africa\n",
    "\n",
    "max_unemployment_row_index=df['Unemployment rate'].idxmax()\n",
    "country_with_max_unemployment=df.loc[max_unemployment_row_index,'Country'] \n",
    "print(f\"The country with the highest unemploment rate is: {country_with_max_unemployment}\")\n"
   ]
  },
  {
   "cell_type": "code",
   "execution_count": 137,
   "metadata": {},
   "outputs": [
    {
     "name": "stdout",
     "output_type": "stream",
     "text": [
      "The country with the lowest unemploment rate is: Qatar\n"
     ]
    }
   ],
   "source": [
    "# The country with the lowest unemploment rate is: Qatar\n",
    "\n",
    "min_unemployment_row_index=df['Unemployment rate'].idxmin()\n",
    "country_with_min_unemployment=df.loc[min_unemployment_row_index,'Country'] \n",
    "print(f\"The country with the lowest unemploment rate is: {country_with_min_unemployment}\")"
   ]
  },
  {
   "cell_type": "code",
   "execution_count": 142,
   "metadata": {},
   "outputs": [
    {
     "name": "stdout",
     "output_type": "stream",
     "text": [
      "Life expectancy of Japan: 84.2 years\n"
     ]
    }
   ],
   "source": [
    "# Cross checking Japan's life expectancy \n",
    "\n",
    "japan_life_expectancy = df[df['Country'] == 'Japan']['Life expectancy']\n",
    "\n",
    "if not japan_life_expectancy.empty:\n",
    "    # Display the life expectancy of Japan\n",
    "    print(f\"Life expectancy of Japan: {japan_life_expectancy.values[0]} years\")\n",
    "else:\n",
    "    print(\"No data found for Japan in the dataset.\")\n",
    "    \n",
    "# Life expectancy of Japan: 84.2 years"
   ]
  },
  {
   "cell_type": "code",
   "execution_count": 172,
   "metadata": {},
   "outputs": [
    {
     "name": "stdout",
     "output_type": "stream",
     "text": [
      "Armed forces size of United States: 1359000.0\n"
     ]
    }
   ],
   "source": [
    "# Cross checking\n",
    "armed_forces_size_us = df[df['Country'] == 'United States']['Armed Forces size']\n",
    "\n",
    "if not armed_forces_size_us.empty:\n",
    "    \n",
    "    print(f\"Armed forces size of United States: {armed_forces_size_us.values[0]}\")\n",
    "else:\n",
    "    print(\"No data found for United States in the dataset.\")\n",
    "    \n",
    "# Armed forces size of United States: 1359000.0"
   ]
  },
  {
   "cell_type": "code",
   "execution_count": 173,
   "metadata": {},
   "outputs": [
    {
     "name": "stdout",
     "output_type": "stream",
     "text": [
      "Armed forces size of India: 3031000.0\n"
     ]
    }
   ],
   "source": [
    "# Cross checking\n",
    "\n",
    "armed_forces_size_india = df[df['Country'] == 'India']['Armed Forces size']\n",
    "\n",
    "if not armed_forces_size_india.empty:\n",
    "    \n",
    "    print(f\"Armed forces size of India: {armed_forces_size_india.values[0]}\")\n",
    "else:\n",
    "    print(\"No data found for India in the dataset.\")\n",
    "    \n",
    "# Armed forces size of India: 3031000.0"
   ]
  },
  {
   "cell_type": "code",
   "execution_count": 143,
   "metadata": {},
   "outputs": [
    {
     "name": "stdout",
     "output_type": "stream",
     "text": [
      "Country                                       object\n",
      "Density\\n(P/Km2)                             float64\n",
      "Agricultural Land( %)                        float64\n",
      "Land Area(Km2)                               float64\n",
      "Armed Forces size                            float64\n",
      "Birth Rate                                   float64\n",
      "Co2-Emissions                                float64\n",
      "CPI                                          float64\n",
      "CPI Change (%)                               float64\n",
      "Fertility Rate                               float64\n",
      "Forested Area (%)                            float64\n",
      "Gasoline Price                               float64\n",
      "GDP                                          float64\n",
      "Gross primary education enrollment (%)       float64\n",
      "Gross tertiary education enrollment (%)      float64\n",
      "Infant mortality                             float64\n",
      "Life expectancy                              float64\n",
      "Maternal mortality ratio                     float64\n",
      "Minimum wage                                 float64\n",
      "Out of pocket health expenditure             float64\n",
      "Physicians per thousand                      float64\n",
      "Population                                   float64\n",
      "Population: Labor force participation (%)    float64\n",
      "Tax revenue (%)                              float64\n",
      "Total tax rate                               float64\n",
      "Unemployment rate                            float64\n",
      "Urban_population                             float64\n",
      "dtype: object\n"
     ]
    }
   ],
   "source": [
    "print(df.dtypes)"
   ]
  },
  {
   "cell_type": "code",
   "execution_count": 145,
   "metadata": {},
   "outputs": [
    {
     "name": "stdout",
     "output_type": "stream",
     "text": [
      "The country with the highest labor employment rate is: Qatar\n"
     ]
    }
   ],
   "source": [
    "# The country with the highest labor employment rate is: Qatar\n",
    "\n",
    "max_labor_row_index=df['Population: Labor force participation (%)'].idxmax()\n",
    "country_with_max_labor=df.loc[max_labor_row_index,'Country'] \n",
    "print(f\"The country with the highest labor force participation rate is: {country_with_max_labor}\")\n"
   ]
  },
  {
   "cell_type": "code",
   "execution_count": 147,
   "metadata": {},
   "outputs": [
    {
     "name": "stdout",
     "output_type": "stream",
     "text": [
      "The country with the lowest labor force participation rate is: Yemen\n"
     ]
    }
   ],
   "source": [
    "# The country with the lowest labor force participation rate is: Yemen\n",
    "\n",
    "min_labor_row_index=df['Population: Labor force participation (%)'].idxmin()\n",
    "country_with_min_labor=df.loc[min_labor_row_index,'Country'] \n",
    "print(f\"The country with the lowest labor force participation rate is: {country_with_min_labor}\")\n"
   ]
  },
  {
   "cell_type": "code",
   "execution_count": null,
   "metadata": {},
   "outputs": [],
   "source": []
  }
 ],
 "metadata": {
  "kernelspec": {
   "display_name": "Python 3",
   "language": "python",
   "name": "python3"
  },
  "language_info": {
   "codemirror_mode": {
    "name": "ipython",
    "version": 3
   },
   "file_extension": ".py",
   "mimetype": "text/x-python",
   "name": "python",
   "nbconvert_exporter": "python",
   "pygments_lexer": "ipython3",
   "version": "3.8.5"
  }
 },
 "nbformat": 4,
 "nbformat_minor": 4
}
